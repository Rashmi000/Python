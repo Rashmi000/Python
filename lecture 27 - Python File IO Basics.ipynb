{
 "cells": [
  {
   "cell_type": "code",
   "execution_count": null,
   "metadata": {},
   "outputs": [],
   "source": [
    "# File IO Basics\n",
    "\n",
    "\"\"\"\n",
    "\"r\" - Open file for reading  - default\n",
    "\"w\" - Open a file for writing\n",
    "\"x\" - Creates file if not exists\n",
    "\"a\" - Add more content to a file\n",
    "\"t\" - Text mode - default\n",
    "\"b\" - Binary mode\n",
    "\"+\" - Read and write\n",
    "\"\"\""
   ]
  },
  {
   "cell_type": "code",
   "execution_count": null,
   "metadata": {},
   "outputs": [],
   "source": [
    "f = open(\"file.txt\")\n",
    "content = f.read()\n",
    "print(content)\n",
    "\n",
    "f.close()"
   ]
  },
  {
   "cell_type": "code",
   "execution_count": null,
   "metadata": {},
   "outputs": [],
   "source": [
    "f = open(\"file.txt\",\"rt\")\n",
    "\n",
    "for line in f:\n",
    "    print(line,end=\"\")\n",
    "f.close()"
   ]
  },
  {
   "cell_type": "code",
   "execution_count": null,
   "metadata": {},
   "outputs": [],
   "source": [
    "f = open(\"file.txt\",\"rt\")\n",
    "\n",
    "print(f.readline())"
   ]
  }
 ],
 "metadata": {
  "kernelspec": {
   "display_name": "Python 3",
   "language": "python",
   "name": "python3"
  },
  "language_info": {
   "codemirror_mode": {
    "name": "ipython",
    "version": 3
   },
   "file_extension": ".py",
   "mimetype": "text/x-python",
   "name": "python",
   "nbconvert_exporter": "python",
   "pygments_lexer": "ipython3",
   "version": "3.7.3"
  }
 },
 "nbformat": 4,
 "nbformat_minor": 2
}

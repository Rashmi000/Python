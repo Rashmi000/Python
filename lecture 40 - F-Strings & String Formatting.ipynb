{
 "cells": [
  {
   "cell_type": "code",
   "execution_count": 1,
   "metadata": {},
   "outputs": [
    {
     "name": "stdout",
     "output_type": "stream",
     "text": [
      "This is Harry 3\n"
     ]
    }
   ],
   "source": [
    "me=\"Harry\"\n",
    "al=3\n",
    "\n",
    "a=\"This is %s %s\"%(me, al)\n",
    "print(a)"
   ]
  },
  {
   "cell_type": "code",
   "execution_count": 2,
   "metadata": {},
   "outputs": [
    {
     "name": "stdout",
     "output_type": "stream",
     "text": [
      "This is Harry 3\n"
     ]
    }
   ],
   "source": [
    "me=\"Harry\"\n",
    "a1=3\n",
    "\n",
    "a=\"This is {} {}\"\n",
    "b=a.format(me,a1)\n",
    "print(b)"
   ]
  },
  {
   "cell_type": "code",
   "execution_count": 3,
   "metadata": {},
   "outputs": [
    {
     "name": "stdout",
     "output_type": "stream",
     "text": [
      "This is 3 Harry\n"
     ]
    }
   ],
   "source": [
    "me=\"Harry\"\n",
    "a1=3\n",
    "\n",
    "a=\"This is {1} {0}\"\n",
    "b=a.format(me,a1)\n",
    "print(b)"
   ]
  },
  {
   "cell_type": "code",
   "execution_count": 4,
   "metadata": {},
   "outputs": [
    {
     "name": "stdout",
     "output_type": "stream",
     "text": [
      "This is Harry 3\n"
     ]
    }
   ],
   "source": [
    "me=\"Harry\"\n",
    "a1=3\n",
    "\n",
    "a=\"This is {0} {1}\"\n",
    "b=a.format(me,a1)\n",
    "print(b)"
   ]
  },
  {
   "cell_type": "code",
   "execution_count": 6,
   "metadata": {},
   "outputs": [
    {
     "name": "stdout",
     "output_type": "stream",
     "text": [
      "This is Harry 3 40\n"
     ]
    }
   ],
   "source": [
    "a=f\"This is {me} {a1} {4*10}\"   # Using F-String\n",
    "print(a)"
   ]
  },
  {
   "cell_type": "code",
   "execution_count": 7,
   "metadata": {},
   "outputs": [
    {
     "name": "stdout",
     "output_type": "stream",
     "text": [
      "This is Harry -0.9524129804151563 40\n"
     ]
    }
   ],
   "source": [
    "import math\n",
    "\n",
    "me=\"Harry\"\n",
    "\n",
    "a=f\"This is {me} {math.cos(60)} {4*10}\"   # Using F-String\n",
    "print(a)"
   ]
  }
 ],
 "metadata": {
  "kernelspec": {
   "display_name": "Python 3",
   "language": "python",
   "name": "python3"
  },
  "language_info": {
   "codemirror_mode": {
    "name": "ipython",
    "version": 3
   },
   "file_extension": ".py",
   "mimetype": "text/x-python",
   "name": "python",
   "nbconvert_exporter": "python",
   "pygments_lexer": "ipython3",
   "version": "3.7.3"
  }
 },
 "nbformat": 4,
 "nbformat_minor": 2
}

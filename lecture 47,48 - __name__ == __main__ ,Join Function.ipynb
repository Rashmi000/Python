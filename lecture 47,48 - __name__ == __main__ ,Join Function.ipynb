{
 "cells": [
  {
   "cell_type": "code",
   "execution_count": 1,
   "metadata": {},
   "outputs": [
    {
     "name": "stdout",
     "output_type": "stream",
     "text": [
      "And the name is __main__\n",
      "give me this string Harry1\n",
      "15\n"
     ]
    }
   ],
   "source": [
    "def printhar(string):\n",
    "    return f\"give me this string {string}\"\n",
    "def add(num1,num2):\n",
    "    return num1+num2 +5\n",
    "\n",
    "print(\"And the name is\", __name__)\n",
    "if __name__ == '__main__':\n",
    "    print(printhar(\"Harry1\"))\n",
    "    o = add(4,6)\n",
    "    print(o)"
   ]
  },
  {
   "cell_type": "code",
   "execution_count": 2,
   "metadata": {},
   "outputs": [
    {
     "name": "stdout",
     "output_type": "stream",
     "text": [
      "John and Cena and Randy and Orton and Khali and "
     ]
    }
   ],
   "source": [
    "lst=[\"John\",\"Cena\",\"Randy\",\"Orton\",\"Khali\"]\n",
    "\n",
    "for item in lst:\n",
    "    print(item,\"and\",end=\" \")"
   ]
  },
  {
   "cell_type": "code",
   "execution_count": 3,
   "metadata": {},
   "outputs": [
    {
     "name": "stdout",
     "output_type": "stream",
     "text": [
      "Other WWE superstars are : \n"
     ]
    }
   ],
   "source": [
    "lst=[\"John\",\"Cena\",\"Randy\",\"Orton\",\"Khali\"]\n",
    "\n",
    "#for item in lst:\n",
    "   # print(item,\"and\",end=\" \")\n",
    "\n",
    "a=\" and \".join(lst)\n",
    "print(\"Other WWE superstars are : \")"
   ]
  },
  {
   "cell_type": "code",
   "execution_count": 4,
   "metadata": {},
   "outputs": [
    {
     "name": "stdout",
     "output_type": "stream",
     "text": [
      "John and Cena and Randy and Orton and Khali Other WWE superstars are : \n"
     ]
    }
   ],
   "source": [
    "lst=[\"John\",\"Cena\",\"Randy\",\"Orton\",\"Khali\"]\n",
    "\n",
    "#for item in lst:\n",
    "   # print(item,\"and\",end=\" \")\n",
    "\n",
    "a=\" and \".join(lst)\n",
    "print(a,\"Other WWE superstars are : \")"
   ]
  },
  {
   "cell_type": "code",
   "execution_count": 6,
   "metadata": {},
   "outputs": [
    {
     "name": "stdout",
     "output_type": "stream",
     "text": [
      "John , Cena , Randy , Orton , Khali Other WWE superstars are : \n"
     ]
    }
   ],
   "source": [
    "lst=[\"John\",\"Cena\",\"Randy\",\"Orton\",\"Khali\"]\n",
    "\n",
    "#for item in lst:\n",
    "   # print(item,\"and\",end=\" \")\n",
    "\n",
    "a=\" , \".join(lst)\n",
    "print(a,\"Other WWE superstars are : \")"
   ]
  }
 ],
 "metadata": {
  "kernelspec": {
   "display_name": "Python 3",
   "language": "python",
   "name": "python3"
  },
  "language_info": {
   "codemirror_mode": {
    "name": "ipython",
    "version": 3
   },
   "file_extension": ".py",
   "mimetype": "text/x-python",
   "name": "python",
   "nbconvert_exporter": "python",
   "pygments_lexer": "ipython3",
   "version": "3.7.3"
  }
 },
 "nbformat": 4,
 "nbformat_minor": 2
}

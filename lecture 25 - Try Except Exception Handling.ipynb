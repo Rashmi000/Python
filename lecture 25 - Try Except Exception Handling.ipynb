{
 "cells": [
  {
   "cell_type": "code",
   "execution_count": 1,
   "metadata": {},
   "outputs": [
    {
     "name": "stdout",
     "output_type": "stream",
     "text": [
      "Enter num1\n",
      "5\n",
      "Enter num2\n",
      "6\n",
      "The sum of these two no.s is 56\n"
     ]
    }
   ],
   "source": [
    "print(\"Enter num1\")\n",
    "num1 = input()\n",
    "print(\"Enter num2\")\n",
    "num2 = input()\n",
    "\n",
    "print(\"The sum of these two no.s is\",num1+num2)"
   ]
  },
  {
   "cell_type": "code",
   "execution_count": 2,
   "metadata": {},
   "outputs": [
    {
     "name": "stdout",
     "output_type": "stream",
     "text": [
      "Enter num1\n",
      "5\n",
      "Enter num2\n",
      "6\n",
      "The sum of these two no.s is 11\n"
     ]
    }
   ],
   "source": [
    "print(\"Enter num1\")\n",
    "num1 = input()\n",
    "print(\"Enter num2\")\n",
    "num2 = input()\n",
    "\n",
    "print(\"The sum of these two no.s is\",int(num1)+int(num2))"
   ]
  },
  {
   "cell_type": "code",
   "execution_count": 3,
   "metadata": {},
   "outputs": [
    {
     "name": "stdout",
     "output_type": "stream",
     "text": [
      "Enter num1\n",
      "5\n",
      "Enter num2\n",
      "6\n",
      "The sum of these two no.s is 11\n",
      "This line is very important\n"
     ]
    }
   ],
   "source": [
    "print(\"Enter num1\")\n",
    "num1 = input()\n",
    "print(\"Enter num2\")\n",
    "num2 = input()\n",
    "\n",
    "print(\"The sum of these two no.s is\",int(num1)+int(num2))\n",
    "print(\"This line is very important\")"
   ]
  },
  {
   "cell_type": "code",
   "execution_count": 4,
   "metadata": {},
   "outputs": [
    {
     "name": "stdout",
     "output_type": "stream",
     "text": [
      "Enter num1\n",
      "5\n",
      "Enter num2\n",
      "e\n"
     ]
    },
    {
     "ename": "ValueError",
     "evalue": "invalid literal for int() with base 10: 'e'",
     "output_type": "error",
     "traceback": [
      "\u001b[1;31m---------------------------------------------------------------------------\u001b[0m",
      "\u001b[1;31mValueError\u001b[0m                                Traceback (most recent call last)",
      "\u001b[1;32m<ipython-input-4-bf642dfd719d>\u001b[0m in \u001b[0;36m<module>\u001b[1;34m\u001b[0m\n\u001b[0;32m      4\u001b[0m \u001b[0mnum2\u001b[0m \u001b[1;33m=\u001b[0m \u001b[0minput\u001b[0m\u001b[1;33m(\u001b[0m\u001b[1;33m)\u001b[0m\u001b[1;33m\u001b[0m\u001b[1;33m\u001b[0m\u001b[0m\n\u001b[0;32m      5\u001b[0m \u001b[1;33m\u001b[0m\u001b[0m\n\u001b[1;32m----> 6\u001b[1;33m \u001b[0mprint\u001b[0m\u001b[1;33m(\u001b[0m\u001b[1;34m\"The sum of these two no.s is\"\u001b[0m\u001b[1;33m,\u001b[0m\u001b[0mint\u001b[0m\u001b[1;33m(\u001b[0m\u001b[0mnum1\u001b[0m\u001b[1;33m)\u001b[0m\u001b[1;33m+\u001b[0m\u001b[0mint\u001b[0m\u001b[1;33m(\u001b[0m\u001b[0mnum2\u001b[0m\u001b[1;33m)\u001b[0m\u001b[1;33m)\u001b[0m\u001b[1;33m\u001b[0m\u001b[1;33m\u001b[0m\u001b[0m\n\u001b[0m\u001b[0;32m      7\u001b[0m \u001b[0mprint\u001b[0m\u001b[1;33m(\u001b[0m\u001b[1;34m\"This line is very important\"\u001b[0m\u001b[1;33m)\u001b[0m\u001b[1;33m\u001b[0m\u001b[1;33m\u001b[0m\u001b[0m\n",
      "\u001b[1;31mValueError\u001b[0m: invalid literal for int() with base 10: 'e'"
     ]
    }
   ],
   "source": [
    "print(\"Enter num1\")\n",
    "num1 = input()\n",
    "print(\"Enter num2\")\n",
    "num2 = input()\n",
    "\n",
    "print(\"The sum of these two no.s is\",int(num1)+int(num2))\n",
    "print(\"This line is very important\")"
   ]
  },
  {
   "cell_type": "code",
   "execution_count": 5,
   "metadata": {},
   "outputs": [
    {
     "name": "stdout",
     "output_type": "stream",
     "text": [
      "Enter num1\n",
      "5\n",
      "Enter num2\n",
      "e\n",
      "invalid literal for int() with base 10: 'e'\n",
      "This line is very important\n"
     ]
    }
   ],
   "source": [
    "print(\"Enter num1\")\n",
    "num1 = input()\n",
    "print(\"Enter num2\")\n",
    "num2 = input()\n",
    "\n",
    "try:\n",
    "    print(\"The sum of these two no.s is\",\n",
    "          int(num1)+int(num2))\n",
    "except Exception as e:\n",
    "    print(e)\n",
    "    \n",
    "    \n",
    "print(\"This line is very important\")"
   ]
  }
 ],
 "metadata": {
  "kernelspec": {
   "display_name": "Python 3",
   "language": "python",
   "name": "python3"
  },
  "language_info": {
   "codemirror_mode": {
    "name": "ipython",
    "version": 3
   },
   "file_extension": ".py",
   "mimetype": "text/x-python",
   "name": "python",
   "nbconvert_exporter": "python",
   "pygments_lexer": "ipython3",
   "version": "3.7.3"
  }
 },
 "nbformat": 4,
 "nbformat_minor": 2
}

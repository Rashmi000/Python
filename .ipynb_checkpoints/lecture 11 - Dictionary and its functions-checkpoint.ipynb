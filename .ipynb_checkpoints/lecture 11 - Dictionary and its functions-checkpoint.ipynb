{
 "cells": [
  {
   "cell_type": "code",
   "execution_count": 2,
   "metadata": {},
   "outputs": [
    {
     "name": "stdout",
     "output_type": "stream",
     "text": [
      "<class 'dict'>\n"
     ]
    }
   ],
   "source": [
    "d1 = {}\n",
    "print(type(d1))"
   ]
  },
  {
   "cell_type": "code",
   "execution_count": 3,
   "metadata": {},
   "outputs": [
    {
     "name": "stdout",
     "output_type": "stream",
     "text": [
      "{'Rohan:fish', 'John:Burger', 'Sam:Chicken'}\n"
     ]
    }
   ],
   "source": [
    "d2 = {\"Rohan:fish\",\"Sam:Chicken\",\"John:Burger\"}\n",
    "print(d2)"
   ]
  },
  {
   "cell_type": "code",
   "execution_count": 4,
   "metadata": {},
   "outputs": [
    {
     "ename": "TypeError",
     "evalue": "'set' object is not subscriptable",
     "output_type": "error",
     "traceback": [
      "\u001b[1;31m---------------------------------------------------------------------------\u001b[0m",
      "\u001b[1;31mTypeError\u001b[0m                                 Traceback (most recent call last)",
      "\u001b[1;32m<ipython-input-4-dc70a4bd909f>\u001b[0m in \u001b[0;36m<module>\u001b[1;34m\u001b[0m\n\u001b[0;32m      1\u001b[0m \u001b[0md2\u001b[0m \u001b[1;33m=\u001b[0m \u001b[1;33m{\u001b[0m\u001b[1;34m\"Rohan:fish\"\u001b[0m\u001b[1;33m,\u001b[0m\u001b[1;34m\"Sam:Chicken\"\u001b[0m\u001b[1;33m,\u001b[0m\u001b[1;34m\"John:Burger\"\u001b[0m\u001b[1;33m}\u001b[0m\u001b[1;33m\u001b[0m\u001b[1;33m\u001b[0m\u001b[0m\n\u001b[1;32m----> 2\u001b[1;33m \u001b[0mprint\u001b[0m\u001b[1;33m(\u001b[0m\u001b[0md2\u001b[0m\u001b[1;33m[\u001b[0m\u001b[1;34m\"Sam\"\u001b[0m\u001b[1;33m]\u001b[0m\u001b[1;33m)\u001b[0m\u001b[1;33m\u001b[0m\u001b[1;33m\u001b[0m\u001b[0m\n\u001b[0m",
      "\u001b[1;31mTypeError\u001b[0m: 'set' object is not subscriptable"
     ]
    }
   ],
   "source": [
    "d2 = {\"Rohan:fish\",\"Sam:Chicken\",\"John:Burger\"}\n",
    "print(d2[\"Sam\"])"
   ]
  },
  {
   "cell_type": "code",
   "execution_count": 5,
   "metadata": {},
   "outputs": [
    {
     "name": "stdout",
     "output_type": "stream",
     "text": [
      "Chicken\n"
     ]
    }
   ],
   "source": [
    "d2 = {\"Rohan\":\"fish\",\"Sam\":\"Chicken\",\"John\":\"Burger\"}\n",
    "print(d2[\"Sam\"])"
   ]
  },
  {
   "cell_type": "code",
   "execution_count": 6,
   "metadata": {},
   "outputs": [
    {
     "name": "stdout",
     "output_type": "stream",
     "text": [
      "{'B': 'Maggie', 'L': 'Roti'}\n"
     ]
    }
   ],
   "source": [
    "d2 = {\"Rohan\":\"fish\",\"Sam\":\"Chicken\",\"John\":\"Burger\",\"Shubham\":{\"B\":\"Maggie\",\"L\":\"Roti\"}}\n",
    "print(d2[\"Shubham\"])"
   ]
  },
  {
   "cell_type": "code",
   "execution_count": 7,
   "metadata": {},
   "outputs": [
    {
     "name": "stdout",
     "output_type": "stream",
     "text": [
      "Roti\n"
     ]
    }
   ],
   "source": [
    "d2 = {\"Rohan\":\"fish\",\"Sam\":\"Chicken\",\"John\":\"Burger\",\"Shubham\":{\"B\":\"Maggie\",\"L\":\"Roti\"}}\n",
    "print(d2[\"Shubham\"][\"L\"])"
   ]
  },
  {
   "cell_type": "code",
   "execution_count": 8,
   "metadata": {},
   "outputs": [
    {
     "ename": "TypeError",
     "evalue": "unhashable type: 'slice'",
     "output_type": "error",
     "traceback": [
      "\u001b[1;31m---------------------------------------------------------------------------\u001b[0m",
      "\u001b[1;31mTypeError\u001b[0m                                 Traceback (most recent call last)",
      "\u001b[1;32m<ipython-input-8-a60044763242>\u001b[0m in \u001b[0;36m<module>\u001b[1;34m\u001b[0m\n\u001b[0;32m      1\u001b[0m \u001b[0md2\u001b[0m \u001b[1;33m=\u001b[0m \u001b[1;33m{\u001b[0m\u001b[1;34m\"Rohan\"\u001b[0m\u001b[1;33m:\u001b[0m\u001b[1;34m\"fish\"\u001b[0m\u001b[1;33m,\u001b[0m\u001b[1;34m\"Sam\"\u001b[0m\u001b[1;33m:\u001b[0m\u001b[1;34m\"Chicken\"\u001b[0m\u001b[1;33m,\u001b[0m\u001b[1;34m\"John\"\u001b[0m\u001b[1;33m:\u001b[0m\u001b[1;34m\"Burger\"\u001b[0m\u001b[1;33m,\u001b[0m\u001b[1;34m\"Shubham\"\u001b[0m\u001b[1;33m:\u001b[0m\u001b[1;33m{\u001b[0m\u001b[1;34m\"B\"\u001b[0m\u001b[1;33m:\u001b[0m\u001b[1;34m\"Maggie\"\u001b[0m\u001b[1;33m,\u001b[0m\u001b[1;34m\"L\"\u001b[0m\u001b[1;33m:\u001b[0m\u001b[1;34m\"Roti\"\u001b[0m\u001b[1;33m}\u001b[0m\u001b[1;33m}\u001b[0m\u001b[1;33m\u001b[0m\u001b[1;33m\u001b[0m\u001b[0m\n\u001b[1;32m----> 2\u001b[1;33m \u001b[0md2\u001b[0m\u001b[1;33m[\u001b[0m\u001b[1;34m\"Ankit\"\u001b[0m\u001b[1;33m:\u001b[0m\u001b[1;34m\"junk food\"\u001b[0m\u001b[1;33m]\u001b[0m\u001b[1;33m\u001b[0m\u001b[1;33m\u001b[0m\u001b[0m\n\u001b[0m\u001b[0;32m      3\u001b[0m \u001b[0mprint\u001b[0m\u001b[1;33m(\u001b[0m\u001b[0md2\u001b[0m\u001b[1;33m)\u001b[0m\u001b[1;33m\u001b[0m\u001b[1;33m\u001b[0m\u001b[0m\n",
      "\u001b[1;31mTypeError\u001b[0m: unhashable type: 'slice'"
     ]
    }
   ],
   "source": [
    "d2 = {\"Rohan\":\"fish\",\"Sam\":\"Chicken\",\"John\":\"Burger\",\"Shubham\":{\"B\":\"Maggie\",\"L\":\"Roti\"}}\n",
    "d2[\"Ankit\":\"junk food\"]\n",
    "print(d2)"
   ]
  },
  {
   "cell_type": "code",
   "execution_count": 10,
   "metadata": {},
   "outputs": [
    {
     "name": "stdout",
     "output_type": "stream",
     "text": [
      "{'Rohan': 'fish', 'Sam': 'Chicken', 'John': 'Burger', 'Shubham': {'B': 'Maggie', 'L': 'Roti'}, 'Ankit': 'junk food'}\n"
     ]
    }
   ],
   "source": [
    "d2 = {\"Rohan\":\"fish\",\"Sam\":\"Chicken\",\"John\":\"Burger\",\"Shubham\":{\"B\":\"Maggie\",\"L\":\"Roti\"}}\n",
    "d2[\"Ankit\"]=\"junk food\"\n",
    "print(d2)"
   ]
  },
  {
   "cell_type": "code",
   "execution_count": 11,
   "metadata": {},
   "outputs": [
    {
     "name": "stdout",
     "output_type": "stream",
     "text": [
      "{'Rohan': 'fish', 'Sam': 'Chicken', 'John': 'Burger', 'Shubham': {'B': 'Maggie', 'L': 'Roti'}, 'Ankit': 'junk food', 420: 'Egg'}\n"
     ]
    }
   ],
   "source": [
    "d2 = {\"Rohan\":\"fish\",\"Sam\":\"Chicken\",\"John\":\"Burger\",\"Shubham\":{\"B\":\"Maggie\",\"L\":\"Roti\"}}\n",
    "d2[\"Ankit\"]=\"junk food\"\n",
    "d2[420]=\"Egg\"\n",
    "print(d2)"
   ]
  },
  {
   "cell_type": "code",
   "execution_count": 13,
   "metadata": {},
   "outputs": [
    {
     "name": "stdout",
     "output_type": "stream",
     "text": [
      "{'Rohan': 'fish', 'Sam': 'Chicken', 'John': 'Burger', 'Shubham': {'B': 'Maggie', 'L': 'Roti'}, 'Ankit': 'junk food'}\n"
     ]
    }
   ],
   "source": [
    "d2 = {\"Rohan\":\"fish\",\"Sam\":\"Chicken\",\"John\":\"Burger\",\"Shubham\":{\"B\":\"Maggie\",\"L\":\"Roti\"}}\n",
    "d2[\"Ankit\"]=\"junk food\"\n",
    "d2[420]=\"Egg\"\n",
    "del d2[420]\n",
    "print(d2)"
   ]
  },
  {
   "cell_type": "code",
   "execution_count": 16,
   "metadata": {},
   "outputs": [
    {
     "name": "stdout",
     "output_type": "stream",
     "text": [
      "{'Rohan': 'fish', 'Sam': 'Chicken', 'John': 'Burger', 'Shubham': {'B': 'Maggie', 'L': 'Roti'}}\n"
     ]
    }
   ],
   "source": [
    "d3=d2\n",
    "del d3[\"Ankit\"]\n",
    "print(d2)"
   ]
  },
  {
   "cell_type": "code",
   "execution_count": 18,
   "metadata": {},
   "outputs": [
    {
     "name": "stdout",
     "output_type": "stream",
     "text": [
      "{'Rohan': 'fish', 'Sam': 'Chicken', 'John': 'Burger', 'Shubham': {'B': 'Maggie', 'L': 'Roti'}, 'Ankit': 'junk food'}\n"
     ]
    }
   ],
   "source": [
    "d2 = {\"Rohan\":\"fish\",\"Sam\":\"Chicken\",\"John\":\"Burger\",\"Shubham\":{\"B\":\"Maggie\",\"L\":\"Roti\"}}\n",
    "d2[\"Ankit\"]=\"junk food\"\n",
    "d2[420]=\"Egg\"\n",
    "del d2[420]\n",
    "print(d2)"
   ]
  },
  {
   "cell_type": "code",
   "execution_count": 19,
   "metadata": {},
   "outputs": [
    {
     "name": "stdout",
     "output_type": "stream",
     "text": [
      "{'Rohan': 'fish', 'Sam': 'Chicken', 'John': 'Burger', 'Shubham': {'B': 'Maggie', 'L': 'Roti'}, 'Ankit': 'junk food'}\n"
     ]
    }
   ],
   "source": [
    "d3=d2.copy()\n",
    "del d3[\"Ankit\"]\n",
    "print(d2)"
   ]
  },
  {
   "cell_type": "code",
   "execution_count": 20,
   "metadata": {},
   "outputs": [
    {
     "name": "stdout",
     "output_type": "stream",
     "text": [
      "{'Rohan': 'fish', 'Sam': 'Chicken', 'John': 'Burger', 'Shubham': {'B': 'Maggie', 'L': 'Roti'}}\n"
     ]
    }
   ],
   "source": [
    "d2 = {\"Rohan\":\"fish\",\"Sam\":\"Chicken\",\"John\":\"Burger\",\"Shubham\":{\"B\":\"Maggie\",\"L\":\"Roti\"}}\n",
    "print(d2)"
   ]
  },
  {
   "cell_type": "code",
   "execution_count": 21,
   "metadata": {},
   "outputs": [
    {
     "name": "stdout",
     "output_type": "stream",
     "text": [
      "Burger\n"
     ]
    }
   ],
   "source": [
    "print(d2.get(\"John\"))"
   ]
  },
  {
   "cell_type": "code",
   "execution_count": 22,
   "metadata": {},
   "outputs": [
    {
     "name": "stdout",
     "output_type": "stream",
     "text": [
      "{'Rohan': 'fish', 'Sam': 'Chicken', 'John': 'Burger', 'Shubham': {'B': 'Maggie', 'L': 'Roti'}, 'Leena': 'Toffee'}\n"
     ]
    }
   ],
   "source": [
    "d2 = {\"Rohan\":\"fish\",\"Sam\":\"Chicken\",\"John\":\"Burger\",\"Shubham\":{\"B\":\"Maggie\",\"L\":\"Roti\"}}\n",
    "d2.update({\"Leena\":\"Toffee\"})\n",
    "print(d2)"
   ]
  },
  {
   "cell_type": "code",
   "execution_count": 23,
   "metadata": {},
   "outputs": [
    {
     "name": "stdout",
     "output_type": "stream",
     "text": [
      "dict_keys(['Rohan', 'Sam', 'John', 'Shubham'])\n"
     ]
    }
   ],
   "source": [
    "d2 = {\"Rohan\":\"fish\",\"Sam\":\"Chicken\",\"John\":\"Burger\",\"Shubham\":{\"B\":\"Maggie\",\"L\":\"Roti\"}}\n",
    "print(d2.keys())"
   ]
  },
  {
   "cell_type": "code",
   "execution_count": 24,
   "metadata": {},
   "outputs": [
    {
     "name": "stdout",
     "output_type": "stream",
     "text": [
      "dict_items([('Rohan', 'fish'), ('Sam', 'Chicken'), ('John', 'Burger'), ('Shubham', {'B': 'Maggie', 'L': 'Roti'})])\n"
     ]
    }
   ],
   "source": [
    "d2 = {\"Rohan\":\"fish\",\"Sam\":\"Chicken\",\"John\":\"Burger\",\"Shubham\":{\"B\":\"Maggie\",\"L\":\"Roti\"}}\n",
    "print(d2.items())"
   ]
  }
 ],
 "metadata": {
  "kernelspec": {
   "display_name": "Python 3",
   "language": "python",
   "name": "python3"
  },
  "language_info": {
   "codemirror_mode": {
    "name": "ipython",
    "version": 3
   },
   "file_extension": ".py",
   "mimetype": "text/x-python",
   "name": "python",
   "nbconvert_exporter": "python",
   "pygments_lexer": "ipython3",
   "version": "3.7.3"
  }
 },
 "nbformat": 4,
 "nbformat_minor": 2
}

{
 "cells": [
  {
   "cell_type": "code",
   "execution_count": 1,
   "metadata": {},
   "outputs": [
    {
     "name": "stdout",
     "output_type": "stream",
     "text": [
      "number of guesses is limited to only 9 times: \n",
      "Guess the number: \n",
      "5\n",
      "You entered less no. please enter greater no.\n",
      "\n",
      "8 No. of guesses left\n",
      "Guess the number: \n",
      "4\n",
      "You entered less no. please enter greater no.\n",
      "\n",
      "7 No. of guesses left\n",
      "Guess the number: \n",
      "48\n",
      "You entered greater no. please enter less no.\n",
      "\n",
      "6 No. of guesses left\n",
      "Guess the number: \n",
      "10\n",
      "You won\n",
      "\n",
      "4 No. of guesses he took to finish\n"
     ]
    }
   ],
   "source": [
    "n=10\n",
    "number_of_guesses=1\n",
    "print(\"number of guesses is limited to only 9 times: \")\n",
    "while(number_of_guesses<=9):\n",
    "    guess_number = int(input(\"Guess the number: \\n\"))\n",
    "    if guess_number<10:\n",
    "        print(\"You entered less no. please enter greater no.\\n\")\n",
    "    elif guess_number>10:\n",
    "        print(\"You entered greater no. please enter less no.\\n\")\n",
    "    else:\n",
    "        print(\"You won\\n\")\n",
    "        print(number_of_guesses,\"No. of guesses he took to finish\")\n",
    "        break\n",
    "    print(9-number_of_guesses,\"No. of guesses left\")\n",
    "    number_of_guesses = number_of_guesses+1\n",
    "if (number_of_guesses>9):\n",
    "    print(\"Game Over\")"
   ]
  }
 ],
 "metadata": {
  "kernelspec": {
   "display_name": "Python 3",
   "language": "python",
   "name": "python3"
  },
  "language_info": {
   "codemirror_mode": {
    "name": "ipython",
    "version": 3
   },
   "file_extension": ".py",
   "mimetype": "text/x-python",
   "name": "python",
   "nbconvert_exporter": "python",
   "pygments_lexer": "ipython3",
   "version": "3.7.3"
  }
 },
 "nbformat": 4,
 "nbformat_minor": 2
}

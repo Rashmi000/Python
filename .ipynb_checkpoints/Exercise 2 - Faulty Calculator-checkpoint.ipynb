{
 "cells": [
  {
   "cell_type": "code",
   "execution_count": 4,
   "metadata": {},
   "outputs": [
    {
     "name": "stdout",
     "output_type": "stream",
     "text": [
      "Enter first no.45\n",
      "Enter second no.3\n",
      "Multiplication of two no.s is:555\n"
     ]
    }
   ],
   "source": [
    "num1 = int(input(\"Enter first no.\"))\n",
    "num2 = int(input(\"Enter second no.\"))\n",
    "\n",
    "if num1==45 and num2==3:\n",
    "    print(\"Multiplication of two no.s is:555\")\n",
    "else:\n",
    "    print(\"Multiplication of two no.s is:num1*num2\")\n",
    "    \n",
    "    if num1==56 and num2==9:\n",
    "        print(\"Addition of two no.s is:77\")\n",
    "    else:\n",
    "        print(\"Addition of two no.s is:num1+num2\")\n",
    "    \n",
    "    if num1==56 and num2==6:\n",
    "        print(\"Division of two no.s is:4\")\n",
    "    else:\n",
    "        print(\"Division of two no.s is:num1/num2\")"
   ]
  },
  {
   "cell_type": "code",
   "execution_count": 6,
   "metadata": {},
   "outputs": [
    {
     "name": "stdout",
     "output_type": "stream",
     "text": [
      "Enter first no.56\n",
      "Enter second no.6\n",
      "Multiplication of two no.s is:num1*num2\n",
      "Addition of two no.s is:num1+num2\n",
      "Division of two no.s is:4\n"
     ]
    }
   ],
   "source": [
    "num1 = int(input(\"Enter first no.\"))\n",
    "num2 = int(input(\"Enter second no.\"))\n",
    "\n",
    "if num1==45 and num2==3:\n",
    "    print(\"Multiplication of two no.s is:555\")\n",
    "else:\n",
    "    print(\"Multiplication of two no.s is:num1*num2\")\n",
    "    \n",
    "    if num1==56 and num2==9:\n",
    "        print(\"Addition of two no.s is:77\")\n",
    "    else:\n",
    "        print(\"Addition of two no.s is:num1+num2\")\n",
    "    \n",
    "        if num1==56 and num2==6:\n",
    "            print(\"Division of two no.s is:4\")\n",
    "        else:\n",
    "            print(\"Division of two no.s is:num1/num2\")"
   ]
  }
 ],
 "metadata": {
  "kernelspec": {
   "display_name": "Python 3",
   "language": "python",
   "name": "python3"
  },
  "language_info": {
   "codemirror_mode": {
    "name": "ipython",
    "version": 3
   },
   "file_extension": ".py",
   "mimetype": "text/x-python",
   "name": "python",
   "nbconvert_exporter": "python",
   "pygments_lexer": "ipython3",
   "version": "3.7.3"
  }
 },
 "nbformat": 4,
 "nbformat_minor": 2
}

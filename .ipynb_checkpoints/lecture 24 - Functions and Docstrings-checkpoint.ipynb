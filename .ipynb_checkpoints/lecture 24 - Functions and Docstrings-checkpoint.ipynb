{
 "cells": [
  {
   "cell_type": "code",
   "execution_count": 1,
   "metadata": {},
   "outputs": [
    {
     "name": "stdout",
     "output_type": "stream",
     "text": [
      "15\n"
     ]
    }
   ],
   "source": [
    "a = 8\n",
    "b = 7\n",
    "\n",
    "c = sum((a,b)) # built in function\n",
    "print(c)"
   ]
  },
  {
   "cell_type": "code",
   "execution_count": 2,
   "metadata": {},
   "outputs": [
    {
     "name": "stdout",
     "output_type": "stream",
     "text": [
      "Hello you are in funcion 1\n",
      "None\n"
     ]
    }
   ],
   "source": [
    "def function1():\n",
    "    print(\"Hello you are in funcion 1\")\n",
    "print(function1())"
   ]
  },
  {
   "cell_type": "code",
   "execution_count": 3,
   "metadata": {},
   "outputs": [
    {
     "name": "stdout",
     "output_type": "stream",
     "text": [
      "Hello you are in funcion 1\n"
     ]
    }
   ],
   "source": [
    "def function1():\n",
    "    print(\"Hello you are in funcion 1\")\n",
    "function1()"
   ]
  },
  {
   "cell_type": "code",
   "execution_count": 4,
   "metadata": {},
   "outputs": [
    {
     "name": "stdout",
     "output_type": "stream",
     "text": [
      "Hello you are in funcion 1\n",
      "Hello you are in funcion 1\n",
      "Hello you are in funcion 1\n"
     ]
    }
   ],
   "source": [
    "def function1():\n",
    "    print(\"Hello you are in funcion 1\")\n",
    "function1()\n",
    "function1()\n",
    "function1()"
   ]
  },
  {
   "cell_type": "code",
   "execution_count": 5,
   "metadata": {},
   "outputs": [
    {
     "name": "stdout",
     "output_type": "stream",
     "text": [
      "Hello you are in funcion 1 12\n"
     ]
    }
   ],
   "source": [
    "def function1(a,b):\n",
    "    print(\"Hello you are in funcion 1\",a+b)\n",
    "    \n",
    "function1(5,7)"
   ]
  },
  {
   "cell_type": "code",
   "execution_count": 6,
   "metadata": {},
   "outputs": [
    {
     "ename": "TypeError",
     "evalue": "function2() takes 0 positional arguments but 2 were given",
     "output_type": "error",
     "traceback": [
      "\u001b[1;31m---------------------------------------------------------------------------\u001b[0m",
      "\u001b[1;31mTypeError\u001b[0m                                 Traceback (most recent call last)",
      "\u001b[1;32m<ipython-input-6-c33026b0984c>\u001b[0m in \u001b[0;36m<module>\u001b[1;34m\u001b[0m\n\u001b[0;32m      6\u001b[0m     \u001b[0mprint\u001b[0m\u001b[1;33m(\u001b[0m\u001b[0maverage\u001b[0m\u001b[1;33m)\u001b[0m\u001b[1;33m\u001b[0m\u001b[1;33m\u001b[0m\u001b[0m\n\u001b[0;32m      7\u001b[0m \u001b[1;33m\u001b[0m\u001b[0m\n\u001b[1;32m----> 8\u001b[1;33m \u001b[0mfunction2\u001b[0m\u001b[1;33m(\u001b[0m\u001b[1;36m10\u001b[0m\u001b[1;33m,\u001b[0m\u001b[1;36m20\u001b[0m\u001b[1;33m)\u001b[0m\u001b[1;33m\u001b[0m\u001b[1;33m\u001b[0m\u001b[0m\n\u001b[0m",
      "\u001b[1;31mTypeError\u001b[0m: function2() takes 0 positional arguments but 2 were given"
     ]
    }
   ],
   "source": [
    "def function1(a,b):\n",
    "    print(\"Hello you are in funcion 1\",a+b)\n",
    "    \n",
    "def function2():\n",
    "    average = (a+b)/2\n",
    "    print(average)\n",
    "\n",
    "function2(10,20)"
   ]
  },
  {
   "cell_type": "code",
   "execution_count": 8,
   "metadata": {},
   "outputs": [
    {
     "name": "stdout",
     "output_type": "stream",
     "text": [
      "6.0\n"
     ]
    }
   ],
   "source": [
    "def function1(a,b):\n",
    "    print(\"Hello you are in funcion 1\",a+b)\n",
    "    \n",
    "def function2(a,b):\n",
    "    average = (a+b)/2\n",
    "    print(average)\n",
    "\n",
    "function2(5,7)"
   ]
  },
  {
   "cell_type": "code",
   "execution_count": 9,
   "metadata": {},
   "outputs": [
    {
     "name": "stdout",
     "output_type": "stream",
     "text": [
      "6.0\n",
      "None\n"
     ]
    }
   ],
   "source": [
    "def function1(a,b):\n",
    "    print(\"Hello you are in funcion 1\",a+b)\n",
    "    \n",
    "def function2(a,b):\n",
    "    average = (a+b)/2\n",
    "    print(average)\n",
    "\n",
    "v = function2(5,7)\n",
    "print(v)"
   ]
  },
  {
   "cell_type": "code",
   "execution_count": 10,
   "metadata": {},
   "outputs": [
    {
     "name": "stdout",
     "output_type": "stream",
     "text": [
      "6.0\n",
      "6.0\n"
     ]
    }
   ],
   "source": [
    "def function1(a,b):\n",
    "    print(\"Hello you are in funcion 1\",a+b)\n",
    "    \n",
    "def function2(a,b):\n",
    "    average = (a+b)/2\n",
    "    print(average)  # gives output 6\n",
    "    return(average) # gives output 6\n",
    "\n",
    "v = function2(5,7)\n",
    "print(v)"
   ]
  },
  {
   "cell_type": "code",
   "execution_count": 12,
   "metadata": {},
   "outputs": [
    {
     "name": "stdout",
     "output_type": "stream",
     "text": [
      "6.0\n"
     ]
    }
   ],
   "source": [
    "def function2(a,b):\n",
    "    average = (a+b)/2\n",
    "    return(average) # gives output 6\n",
    "\n",
    "v = function2(5,7)\n",
    "print(v)"
   ]
  },
  {
   "cell_type": "code",
   "execution_count": 15,
   "metadata": {},
   "outputs": [
    {
     "name": "stdout",
     "output_type": "stream",
     "text": [
      "This is a docstring which will calculate the average of two no.s\n",
      "    this function doesn't work for three no.s\n"
     ]
    }
   ],
   "source": [
    "def function2(a,b):\n",
    "    \"\"\"This is a docstring which will calculate the average of two no.s\n",
    "    this function doesn't work for three no.s\"\"\"\n",
    "    average = (a+b)/2\n",
    "    return(average) # gives output 6\n",
    "\n",
    "v = function2(5,7)\n",
    "print(function2.__doc__)"
   ]
  },
  {
   "cell_type": "code",
   "execution_count": 19,
   "metadata": {},
   "outputs": [
    {
     "name": "stdout",
     "output_type": "stream",
     "text": [
      "This is a docstring which will calculate the Sum of two no.s\n",
      "This is a docstring which will calculate the average of two no.s\n"
     ]
    }
   ],
   "source": [
    "def function1(a,b):\n",
    "    \"\"\"This is a docstring which will calculate the Sum of two no.s\"\"\"\n",
    "    print(\"Hello you are in funcion 1\",a+b)\n",
    "    \n",
    "def function2(a,b):\n",
    "    \"\"\"This is a docstring which will calculate the average of two no.s\"\"\"\n",
    "    average = (a+b)/2\n",
    "    #print(average)  # gives output 6\n",
    "    #return(average) # gives output 6\n",
    "\n",
    "v = function2(5,7)\n",
    "print(function1.__doc__)\n",
    "print(function2.__doc__)"
   ]
  }
 ],
 "metadata": {
  "kernelspec": {
   "display_name": "Python 3",
   "language": "python",
   "name": "python3"
  },
  "language_info": {
   "codemirror_mode": {
    "name": "ipython",
    "version": 3
   },
   "file_extension": ".py",
   "mimetype": "text/x-python",
   "name": "python",
   "nbconvert_exporter": "python",
   "pygments_lexer": "ipython3",
   "version": "3.7.3"
  }
 },
 "nbformat": 4,
 "nbformat_minor": 2
}

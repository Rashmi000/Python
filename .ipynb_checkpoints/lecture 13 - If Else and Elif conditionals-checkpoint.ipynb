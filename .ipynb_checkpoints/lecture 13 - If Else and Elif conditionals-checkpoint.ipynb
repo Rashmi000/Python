{
 "cells": [
  {
   "cell_type": "code",
   "execution_count": 1,
   "metadata": {},
   "outputs": [
    {
     "name": "stdout",
     "output_type": "stream",
     "text": [
      "1\n",
      "Lesser\n"
     ]
    }
   ],
   "source": [
    "var1 = 5\n",
    "var2 = 6\n",
    "\n",
    "var3 = int(input())\n",
    "\n",
    "if var3>var2:\n",
    "    print(\"Greater\")\n",
    "else:\n",
    "     print(\"Lesser\")"
   ]
  },
  {
   "cell_type": "code",
   "execution_count": 2,
   "metadata": {},
   "outputs": [
    {
     "name": "stdout",
     "output_type": "stream",
     "text": [
      "10\n"
     ]
    },
    {
     "ename": "TypeError",
     "evalue": "'>' not supported between instances of 'str' and 'int'",
     "output_type": "error",
     "traceback": [
      "\u001b[1;31m---------------------------------------------------------------------------\u001b[0m",
      "\u001b[1;31mTypeError\u001b[0m                                 Traceback (most recent call last)",
      "\u001b[1;32m<ipython-input-2-782ee4e568f1>\u001b[0m in \u001b[0;36m<module>\u001b[1;34m\u001b[0m\n\u001b[0;32m      3\u001b[0m \u001b[1;33m\u001b[0m\u001b[0m\n\u001b[0;32m      4\u001b[0m \u001b[1;33m\u001b[0m\u001b[0m\n\u001b[1;32m----> 5\u001b[1;33m \u001b[1;32mif\u001b[0m \u001b[0mvar2\u001b[0m\u001b[1;33m>\u001b[0m\u001b[0mvar1\u001b[0m\u001b[1;33m:\u001b[0m\u001b[1;33m\u001b[0m\u001b[1;33m\u001b[0m\u001b[0m\n\u001b[0m\u001b[0;32m      6\u001b[0m     \u001b[0mprint\u001b[0m\u001b[1;33m(\u001b[0m\u001b[1;34m\"Greater\"\u001b[0m\u001b[1;33m)\u001b[0m\u001b[1;33m\u001b[0m\u001b[1;33m\u001b[0m\u001b[0m\n\u001b[0;32m      7\u001b[0m \u001b[1;32melse\u001b[0m\u001b[1;33m:\u001b[0m\u001b[1;33m\u001b[0m\u001b[1;33m\u001b[0m\u001b[0m\n",
      "\u001b[1;31mTypeError\u001b[0m: '>' not supported between instances of 'str' and 'int'"
     ]
    }
   ],
   "source": [
    "var1 = 6\n",
    "var2 =input()\n",
    "\n",
    "\n",
    "if var2>var1:\n",
    "    print(\"Greater\")\n",
    "else:\n",
    "     print(\"Lesser\")"
   ]
  },
  {
   "cell_type": "code",
   "execution_count": 3,
   "metadata": {},
   "outputs": [
    {
     "name": "stdout",
     "output_type": "stream",
     "text": [
      "10\n",
      "Greater\n"
     ]
    }
   ],
   "source": [
    "var1 = 6\n",
    "var2 =int(input())\n",
    "\n",
    "\n",
    "if var2>var1:\n",
    "    print(\"Greater\")\n",
    "else:\n",
    "     print(\"Lesser\")"
   ]
  },
  {
   "cell_type": "code",
   "execution_count": 5,
   "metadata": {},
   "outputs": [
    {
     "name": "stdout",
     "output_type": "stream",
     "text": [
      "What is your age\n",
      "26\n",
      "You can drive\n"
     ]
    }
   ],
   "source": [
    "print(\"What is your age\")\n",
    "age = int(input())\n",
    "\n",
    "if age>18:\n",
    "    print(\"You can drive\")\n",
    "elif age==18:\n",
    "    print(\"We will think of it\")\n",
    "else:\n",
    "    print(\"You cannot drive\")"
   ]
  },
  {
   "cell_type": "code",
   "execution_count": 6,
   "metadata": {},
   "outputs": [
    {
     "name": "stdout",
     "output_type": "stream",
     "text": [
      "What is your age\n",
      "18\n",
      "We will think of it\n"
     ]
    }
   ],
   "source": [
    "print(\"What is your age\")\n",
    "age = int(input())\n",
    "\n",
    "if age>18:\n",
    "    print(\"You can drive\")\n",
    "elif age==18:\n",
    "    print(\"We will think of it\")\n",
    "else:\n",
    "    print(\"You cannot drive\")"
   ]
  },
  {
   "cell_type": "code",
   "execution_count": 7,
   "metadata": {},
   "outputs": [
    {
     "name": "stdout",
     "output_type": "stream",
     "text": [
      "What is your age\n",
      "10\n",
      "You cannot drive\n"
     ]
    }
   ],
   "source": [
    "print(\"What is your age\")\n",
    "age = int(input())\n",
    "\n",
    "if age>18:\n",
    "    print(\"You can drive\")\n",
    "elif age==18:\n",
    "    print(\"We will think of it\")\n",
    "else:\n",
    "    print(\"You cannot drive\")"
   ]
  }
 ],
 "metadata": {
  "kernelspec": {
   "display_name": "Python 3",
   "language": "python",
   "name": "python3"
  },
  "language_info": {
   "codemirror_mode": {
    "name": "ipython",
    "version": 3
   },
   "file_extension": ".py",
   "mimetype": "text/x-python",
   "name": "python",
   "nbconvert_exporter": "python",
   "pygments_lexer": "ipython3",
   "version": "3.7.3"
  }
 },
 "nbformat": 4,
 "nbformat_minor": 2
}

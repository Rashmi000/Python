{
 "cells": [
  {
   "cell_type": "code",
   "execution_count": 1,
   "metadata": {},
   "outputs": [
    {
     "name": "stdout",
     "output_type": "stream",
     "text": [
      "5 3\n",
      "This is me I have printed\n",
      "10\n"
     ]
    }
   ],
   "source": [
    "l=10\n",
    "\n",
    "def func1(n):\n",
    "    l=5\n",
    "    m=3\n",
    "    \n",
    "    print(l,m)\n",
    "    print(n,\"I have printed\")\n",
    "    \n",
    "func1(\"This is me\")\n",
    "print(l)\n"
   ]
  },
  {
   "cell_type": "code",
   "execution_count": 2,
   "metadata": {},
   "outputs": [
    {
     "name": "stdout",
     "output_type": "stream",
     "text": [
      "10 3\n",
      "This is me I have printed\n",
      "10\n"
     ]
    }
   ],
   "source": [
    "l=10\n",
    "\n",
    "def func1(n):\n",
    "    m=3\n",
    "    \n",
    "    print(l,m)\n",
    "    print(n,\"I have printed\")\n",
    "    \n",
    "func1(\"This is me\")\n",
    "print(l)\n"
   ]
  },
  {
   "cell_type": "code",
   "execution_count": 3,
   "metadata": {},
   "outputs": [
    {
     "name": "stdout",
     "output_type": "stream",
     "text": [
      "5 3\n",
      "This is me I have printed\n"
     ]
    },
    {
     "ename": "NameError",
     "evalue": "name 'm' is not defined",
     "output_type": "error",
     "traceback": [
      "\u001b[1;31m---------------------------------------------------------------------------\u001b[0m",
      "\u001b[1;31mNameError\u001b[0m                                 Traceback (most recent call last)",
      "\u001b[1;32m<ipython-input-3-acbfe4ddec86>\u001b[0m in \u001b[0;36m<module>\u001b[1;34m\u001b[0m\n\u001b[0;32m      9\u001b[0m \u001b[1;33m\u001b[0m\u001b[0m\n\u001b[0;32m     10\u001b[0m \u001b[0mfunc1\u001b[0m\u001b[1;33m(\u001b[0m\u001b[1;34m\"This is me\"\u001b[0m\u001b[1;33m)\u001b[0m\u001b[1;33m\u001b[0m\u001b[1;33m\u001b[0m\u001b[0m\n\u001b[1;32m---> 11\u001b[1;33m \u001b[0mprint\u001b[0m\u001b[1;33m(\u001b[0m\u001b[0mm\u001b[0m\u001b[1;33m)\u001b[0m\u001b[1;33m\u001b[0m\u001b[1;33m\u001b[0m\u001b[0m\n\u001b[0m",
      "\u001b[1;31mNameError\u001b[0m: name 'm' is not defined"
     ]
    }
   ],
   "source": [
    "l=10\n",
    "\n",
    "def func1(n):\n",
    "    l=5\n",
    "    m=3\n",
    "    \n",
    "    print(l,m)\n",
    "    print(n,\"I have printed\")\n",
    "    \n",
    "func1(\"This is me\")\n",
    "print(m)\n"
   ]
  },
  {
   "cell_type": "code",
   "execution_count": 4,
   "metadata": {},
   "outputs": [
    {
     "name": "stdout",
     "output_type": "stream",
     "text": [
      "5 3\n",
      "This is me I have printed\n"
     ]
    }
   ],
   "source": [
    "l=10\n",
    "\n",
    "def func1(n):\n",
    "    l=5\n",
    "    m=3\n",
    "    \n",
    "    print(l,m)\n",
    "    print(n,\"I have printed\")\n",
    "    \n",
    "func1(\"This is me\")\n"
   ]
  },
  {
   "cell_type": "code",
   "execution_count": 5,
   "metadata": {},
   "outputs": [
    {
     "name": "stdout",
     "output_type": "stream",
     "text": [
      "15 3\n",
      "This is me I have printed\n",
      "10\n"
     ]
    }
   ],
   "source": [
    "l=10\n",
    "\n",
    "def func1(n):\n",
    "    l=5\n",
    "    m=3\n",
    "    l=l+10\n",
    "    print(l,m)\n",
    "    print(n,\"I have printed\")\n",
    "    \n",
    "func1(\"This is me\")\n",
    "print(l)\n"
   ]
  },
  {
   "cell_type": "code",
   "execution_count": 6,
   "metadata": {},
   "outputs": [
    {
     "ename": "UnboundLocalError",
     "evalue": "local variable 'l' referenced before assignment",
     "output_type": "error",
     "traceback": [
      "\u001b[1;31m---------------------------------------------------------------------------\u001b[0m",
      "\u001b[1;31mUnboundLocalError\u001b[0m                         Traceback (most recent call last)",
      "\u001b[1;32m<ipython-input-6-624511255e06>\u001b[0m in \u001b[0;36m<module>\u001b[1;34m\u001b[0m\n\u001b[0;32m      8\u001b[0m     \u001b[0mprint\u001b[0m\u001b[1;33m(\u001b[0m\u001b[0mn\u001b[0m\u001b[1;33m,\u001b[0m\u001b[1;34m\"I have printed\"\u001b[0m\u001b[1;33m)\u001b[0m\u001b[1;33m\u001b[0m\u001b[1;33m\u001b[0m\u001b[0m\n\u001b[0;32m      9\u001b[0m \u001b[1;33m\u001b[0m\u001b[0m\n\u001b[1;32m---> 10\u001b[1;33m \u001b[0mfunc1\u001b[0m\u001b[1;33m(\u001b[0m\u001b[1;34m\"This is me\"\u001b[0m\u001b[1;33m)\u001b[0m\u001b[1;33m\u001b[0m\u001b[1;33m\u001b[0m\u001b[0m\n\u001b[0m\u001b[0;32m     11\u001b[0m \u001b[0mprint\u001b[0m\u001b[1;33m(\u001b[0m\u001b[0ml\u001b[0m\u001b[1;33m)\u001b[0m\u001b[1;33m\u001b[0m\u001b[1;33m\u001b[0m\u001b[0m\n",
      "\u001b[1;32m<ipython-input-6-624511255e06>\u001b[0m in \u001b[0;36mfunc1\u001b[1;34m(n)\u001b[0m\n\u001b[0;32m      4\u001b[0m     \u001b[1;31m#l=5\u001b[0m\u001b[1;33m\u001b[0m\u001b[1;33m\u001b[0m\u001b[1;33m\u001b[0m\u001b[0m\n\u001b[0;32m      5\u001b[0m     \u001b[0mm\u001b[0m\u001b[1;33m=\u001b[0m\u001b[1;36m3\u001b[0m\u001b[1;33m\u001b[0m\u001b[1;33m\u001b[0m\u001b[0m\n\u001b[1;32m----> 6\u001b[1;33m     \u001b[0ml\u001b[0m\u001b[1;33m=\u001b[0m\u001b[0ml\u001b[0m\u001b[1;33m+\u001b[0m\u001b[1;36m10\u001b[0m\u001b[1;33m\u001b[0m\u001b[1;33m\u001b[0m\u001b[0m\n\u001b[0m\u001b[0;32m      7\u001b[0m     \u001b[0mprint\u001b[0m\u001b[1;33m(\u001b[0m\u001b[0ml\u001b[0m\u001b[1;33m,\u001b[0m\u001b[0mm\u001b[0m\u001b[1;33m)\u001b[0m\u001b[1;33m\u001b[0m\u001b[1;33m\u001b[0m\u001b[0m\n\u001b[0;32m      8\u001b[0m     \u001b[0mprint\u001b[0m\u001b[1;33m(\u001b[0m\u001b[0mn\u001b[0m\u001b[1;33m,\u001b[0m\u001b[1;34m\"I have printed\"\u001b[0m\u001b[1;33m)\u001b[0m\u001b[1;33m\u001b[0m\u001b[1;33m\u001b[0m\u001b[0m\n",
      "\u001b[1;31mUnboundLocalError\u001b[0m: local variable 'l' referenced before assignment"
     ]
    }
   ],
   "source": [
    "l=10\n",
    "\n",
    "def func1(n):\n",
    "    #l=5\n",
    "    m=3\n",
    "    l=l+10\n",
    "    print(l,m)\n",
    "    print(n,\"I have printed\")\n",
    "    \n",
    "func1(\"This is me\")\n",
    "print(l)\n"
   ]
  },
  {
   "cell_type": "code",
   "execution_count": 7,
   "metadata": {},
   "outputs": [
    {
     "name": "stdout",
     "output_type": "stream",
     "text": [
      "20 3\n",
      "This is me I have printed\n",
      "20\n"
     ]
    }
   ],
   "source": [
    "l=10\n",
    "\n",
    "def func1(n):\n",
    "    #l=5\n",
    "    m=3\n",
    "    global l\n",
    "    l=l+10\n",
    "    print(l,m)\n",
    "    print(n,\"I have printed\")\n",
    "    \n",
    "func1(\"This is me\")\n",
    "print(l)\n"
   ]
  },
  {
   "cell_type": "code",
   "execution_count": 9,
   "metadata": {},
   "outputs": [
    {
     "name": "stdout",
     "output_type": "stream",
     "text": [
      "Before calling rohan() 20\n",
      "After calling rohan() 20\n"
     ]
    }
   ],
   "source": [
    "def harry():\n",
    "    x=20\n",
    "    def rohan():\n",
    "        global x\n",
    "        x = 88\n",
    "    print(\"Before calling rohan()\",x)\n",
    "    rohan()\n",
    "    print(\"After calling rohan()\",x)\n",
    "        \n",
    "harry()"
   ]
  },
  {
   "cell_type": "code",
   "execution_count": 10,
   "metadata": {},
   "outputs": [
    {
     "name": "stdout",
     "output_type": "stream",
     "text": [
      "Before calling rohan() 20\n",
      "After calling rohan() 20\n",
      "88\n"
     ]
    }
   ],
   "source": [
    "def harry():\n",
    "    x=20\n",
    "    def rohan():\n",
    "        global x\n",
    "        x = 88\n",
    "    print(\"Before calling rohan()\",x)\n",
    "    rohan()\n",
    "    print(\"After calling rohan()\",x)\n",
    "        \n",
    "harry()\n",
    "print(x)"
   ]
  },
  {
   "cell_type": "code",
   "execution_count": 11,
   "metadata": {},
   "outputs": [
    {
     "name": "stdout",
     "output_type": "stream",
     "text": [
      "After calling rohan() 20\n",
      "88\n"
     ]
    }
   ],
   "source": [
    "x=90\n",
    "\n",
    "def harry():\n",
    "    x=20\n",
    "    def rohan():\n",
    "        global x\n",
    "        x = 88\n",
    "    #print(\"Before calling rohan()\",x)\n",
    "    rohan()\n",
    "    print(\"After calling rohan()\",x)\n",
    "        \n",
    "harry()\n",
    "print(x)"
   ]
  }
 ],
 "metadata": {
  "kernelspec": {
   "display_name": "Python 3",
   "language": "python",
   "name": "python3"
  },
  "language_info": {
   "codemirror_mode": {
    "name": "ipython",
    "version": 3
   },
   "file_extension": ".py",
   "mimetype": "text/x-python",
   "name": "python",
   "nbconvert_exporter": "python",
   "pygments_lexer": "ipython3",
   "version": "3.7.3"
  }
 },
 "nbformat": 4,
 "nbformat_minor": 2
}

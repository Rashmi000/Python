{
 "cells": [
  {
   "cell_type": "code",
   "execution_count": 1,
   "metadata": {},
   "outputs": [
    {
     "name": "stdout",
     "output_type": "stream",
     "text": [
      "subscribe\n"
     ]
    }
   ],
   "source": [
    "def function1():\n",
    "    print(\"subscribe\")\n",
    "\n",
    "func2 = function1\n",
    "del function1\n",
    "func2()"
   ]
  },
  {
   "cell_type": "code",
   "execution_count": 2,
   "metadata": {},
   "outputs": [
    {
     "name": "stdout",
     "output_type": "stream",
     "text": [
      "<built-in function print>\n"
     ]
    }
   ],
   "source": [
    "def funcret(num):\n",
    "    if num==0:\n",
    "        return print\n",
    "    if num==1:\n",
    "        return int\n",
    "\n",
    "a=funcret(0)\n",
    "print(a)"
   ]
  },
  {
   "cell_type": "code",
   "execution_count": 3,
   "metadata": {},
   "outputs": [
    {
     "name": "stdout",
     "output_type": "stream",
     "text": [
      "<class 'int'>\n"
     ]
    }
   ],
   "source": [
    "def funcret(num):\n",
    "    if num==0:\n",
    "        return print\n",
    "    if num==1:\n",
    "        return int\n",
    "\n",
    "a=funcret(1)\n",
    "print(a)"
   ]
  },
  {
   "cell_type": "code",
   "execution_count": 4,
   "metadata": {},
   "outputs": [
    {
     "name": "stdout",
     "output_type": "stream",
     "text": [
      "<built-in function sum>\n"
     ]
    }
   ],
   "source": [
    "def funcret(num):\n",
    "    if num==0:\n",
    "        return print\n",
    "    if num==1:\n",
    "        return sum\n",
    "\n",
    "a=funcret(1)\n",
    "print(a)"
   ]
  },
  {
   "cell_type": "code",
   "execution_count": 7,
   "metadata": {},
   "outputs": [
    {
     "name": "stdout",
     "output_type": "stream",
     "text": [
      "Mahi is a good girl\n"
     ]
    }
   ],
   "source": [
    "def dec1(func1):\n",
    "    def nowexec():\n",
    "        print(\"Executing now\")\n",
    "        func1()\n",
    "        print(\"Executed\")\n",
    "    return nowexec\n",
    "\n",
    "def who_is_mahi():\n",
    "    print(\"Mahi is a good girl\")\n",
    "    \n",
    "who_is_mahi()"
   ]
  },
  {
   "cell_type": "code",
   "execution_count": 8,
   "metadata": {},
   "outputs": [
    {
     "name": "stdout",
     "output_type": "stream",
     "text": [
      "Executing now\n",
      "Mahi is a good girl\n",
      "Executed\n"
     ]
    }
   ],
   "source": [
    "def dec1(func1):\n",
    "    def nowexec():\n",
    "        print(\"Executing now\")\n",
    "        func1()\n",
    "        print(\"Executed\")\n",
    "    return nowexec\n",
    "\n",
    "def who_is_mahi():\n",
    "    print(\"Mahi is a good girl\")\n",
    "    \n",
    "who_is_mahi = dec1(who_is_mahi)   # This is the decorator\n",
    "who_is_mahi()"
   ]
  },
  {
   "cell_type": "code",
   "execution_count": 9,
   "metadata": {},
   "outputs": [
    {
     "name": "stdout",
     "output_type": "stream",
     "text": [
      "Executing now\n",
      "Mahi is a good girl\n",
      "Executed\n"
     ]
    }
   ],
   "source": [
    "def dec1(func1):\n",
    "    def nowexec():\n",
    "        print(\"Executing now\")\n",
    "        func1()\n",
    "        print(\"Executed\")\n",
    "    return nowexec\n",
    "\n",
    "@dec1\n",
    "def who_is_mahi():\n",
    "    print(\"Mahi is a good girl\")\n",
    "    \n",
    "#who_is_mahi = dec1(who_is_mahi)   # This is the decorator\n",
    "who_is_mahi()"
   ]
  }
 ],
 "metadata": {
  "kernelspec": {
   "display_name": "Python 3",
   "language": "python",
   "name": "python3"
  },
  "language_info": {
   "codemirror_mode": {
    "name": "ipython",
    "version": 3
   },
   "file_extension": ".py",
   "mimetype": "text/x-python",
   "name": "python",
   "nbconvert_exporter": "python",
   "pygments_lexer": "ipython3",
   "version": "3.7.3"
  }
 },
 "nbformat": 4,
 "nbformat_minor": 2
}

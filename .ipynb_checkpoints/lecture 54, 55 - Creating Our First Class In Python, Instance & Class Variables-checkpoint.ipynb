{
 "cells": [
  {
   "cell_type": "code",
   "execution_count": 2,
   "metadata": {},
   "outputs": [
    {
     "name": "stdout",
     "output_type": "stream",
     "text": [
      "10\n"
     ]
    }
   ],
   "source": [
    "class Student:\n",
    "    pass\n",
    "\n",
    "harry = student()\n",
    "larry = student()\n",
    "\n",
    "harry.name = \"Harry\"\n",
    "harry.std = 10\n",
    "harry.section = 1\n",
    "\n",
    "print(harry.std)"
   ]
  },
  {
   "cell_type": "code",
   "execution_count": 3,
   "metadata": {},
   "outputs": [
    {
     "name": "stdout",
     "output_type": "stream",
     "text": [
      "Harry\n"
     ]
    }
   ],
   "source": [
    "class Student:\n",
    "    pass\n",
    "\n",
    "harry = student()\n",
    "larry = student()\n",
    "\n",
    "harry.name = \"Harry\"\n",
    "harry.std = 10\n",
    "harry.section = 1\n",
    "\n",
    "print(harry.name)"
   ]
  },
  {
   "cell_type": "code",
   "execution_count": 4,
   "metadata": {},
   "outputs": [
    {
     "name": "stdout",
     "output_type": "stream",
     "text": [
      "10 5\n"
     ]
    }
   ],
   "source": [
    "class Student:\n",
    "    pass\n",
    "\n",
    "harry = student()\n",
    "larry = student()\n",
    "\n",
    "harry.name = \"Harry\"\n",
    "harry.std = 10\n",
    "harry.section = 1\n",
    "larry.std = 5\n",
    "\n",
    "print(harry.std, larry.std)"
   ]
  },
  {
   "cell_type": "code",
   "execution_count": 5,
   "metadata": {},
   "outputs": [
    {
     "name": "stdout",
     "output_type": "stream",
     "text": [
      "10 ['Hindi', 'Maths', 'English']\n"
     ]
    }
   ],
   "source": [
    "class Student:\n",
    "    pass\n",
    "\n",
    "harry = student()\n",
    "larry = student()\n",
    "\n",
    "harry.name = \"Harry\"\n",
    "harry.std = 10\n",
    "harry.section = 1\n",
    "larry.subjects = [\"Hindi\",\"Maths\",\"English\"]\n",
    "\n",
    "print(harry.std,larry.subjects)"
   ]
  },
  {
   "cell_type": "code",
   "execution_count": 6,
   "metadata": {},
   "outputs": [
    {
     "ename": "AttributeError",
     "evalue": "'student' object has no attribute 'name'",
     "output_type": "error",
     "traceback": [
      "\u001b[1;31m---------------------------------------------------------------------------\u001b[0m",
      "\u001b[1;31mAttributeError\u001b[0m                            Traceback (most recent call last)",
      "\u001b[1;32m<ipython-input-6-cf87b8cf137c>\u001b[0m in \u001b[0;36m<module>\u001b[1;34m\u001b[0m\n\u001b[0;32m     10\u001b[0m \u001b[0mlarry\u001b[0m\u001b[1;33m.\u001b[0m\u001b[0msubjects\u001b[0m \u001b[1;33m=\u001b[0m \u001b[1;33m[\u001b[0m\u001b[1;34m\"Hindi\"\u001b[0m\u001b[1;33m,\u001b[0m\u001b[1;34m\"Maths\"\u001b[0m\u001b[1;33m,\u001b[0m\u001b[1;34m\"English\"\u001b[0m\u001b[1;33m]\u001b[0m\u001b[1;33m\u001b[0m\u001b[1;33m\u001b[0m\u001b[0m\n\u001b[0;32m     11\u001b[0m \u001b[1;33m\u001b[0m\u001b[0m\n\u001b[1;32m---> 12\u001b[1;33m \u001b[0mprint\u001b[0m\u001b[1;33m(\u001b[0m\u001b[0mlarry\u001b[0m\u001b[1;33m.\u001b[0m\u001b[0mname\u001b[0m\u001b[1;33m)\u001b[0m\u001b[1;33m\u001b[0m\u001b[1;33m\u001b[0m\u001b[0m\n\u001b[0m",
      "\u001b[1;31mAttributeError\u001b[0m: 'student' object has no attribute 'name'"
     ]
    }
   ],
   "source": [
    "class Student:\n",
    "    pass\n",
    "\n",
    "harry = student()\n",
    "larry = student()\n",
    "\n",
    "harry.name = \"Harry\"\n",
    "harry.std = 10\n",
    "harry.section = 1\n",
    "larry.subjects = [\"Hindi\",\"Maths\",\"English\"]\n",
    "\n",
    "print(larry.name)"
   ]
  },
  {
   "cell_type": "code",
   "execution_count": null,
   "metadata": {},
   "outputs": [],
   "source": [
    "INSTANCE & CLASS VARIABLES"
   ]
  },
  {
   "cell_type": "code",
   "execution_count": 7,
   "metadata": {},
   "outputs": [
    {
     "name": "stdout",
     "output_type": "stream",
     "text": [
      "8\n"
     ]
    }
   ],
   "source": [
    "class Employee:\n",
    "    no_of_leaves =8\n",
    "    pass\n",
    "\n",
    "harry = Employee()\n",
    "rohan = Employee()\n",
    "\n",
    "harry.name = \"Harry\"\n",
    "harry.salary = 455\n",
    "harry.role = \"Instructor\"\n",
    "\n",
    "rohan.name = \"Rohan\"\n",
    "rohan.salary = 200\n",
    "rohan.role = \"Student\"\n",
    "print(harry.no_of_leaves)"
   ]
  },
  {
   "cell_type": "code",
   "execution_count": 8,
   "metadata": {},
   "outputs": [
    {
     "name": "stdout",
     "output_type": "stream",
     "text": [
      "8\n",
      "9\n"
     ]
    }
   ],
   "source": [
    "class Employee:\n",
    "    no_of_leaves =8\n",
    "    pass\n",
    "\n",
    "harry = Employee()\n",
    "rohan = Employee()\n",
    "\n",
    "harry.name = \"Harry\"\n",
    "harry.salary = 455\n",
    "harry.role = \"Instructor\"\n",
    "\n",
    "rohan.name = \"Rohan\"\n",
    "rohan.salary = 200\n",
    "rohan.role = \"Student\"\n",
    "print(harry.no_of_leaves)\n",
    "Employee.no_of_leaves = 9\n",
    "print(harry.no_of_leaves)"
   ]
  },
  {
   "cell_type": "code",
   "execution_count": 9,
   "metadata": {},
   "outputs": [
    {
     "name": "stdout",
     "output_type": "stream",
     "text": [
      "8\n",
      "8\n"
     ]
    }
   ],
   "source": [
    "class Employee:\n",
    "    no_of_leaves =8\n",
    "    pass\n",
    "\n",
    "harry = Employee()\n",
    "rohan = Employee()\n",
    "\n",
    "harry.name = \"Harry\"\n",
    "harry.salary = 455\n",
    "harry.role = \"Instructor\"\n",
    "\n",
    "rohan.name = \"Rohan\"\n",
    "rohan.salary = 200\n",
    "rohan.role = \"Student\"\n",
    "print(harry.no_of_leaves)\n",
    "rohan.no_of_leaves = 9\n",
    "print(harry.no_of_leaves)"
   ]
  },
  {
   "cell_type": "code",
   "execution_count": 10,
   "metadata": {},
   "outputs": [
    {
     "name": "stdout",
     "output_type": "stream",
     "text": [
      "8\n",
      "{'name': 'Rohan', 'salary': 200, 'role': 'Student'}\n",
      "{'name': 'Rohan', 'salary': 200, 'role': 'Student', 'no_of_leaves': 9}\n",
      "8\n"
     ]
    }
   ],
   "source": [
    "class Employee:\n",
    "    no_of_leaves =8\n",
    "    pass\n",
    "\n",
    "harry = Employee()\n",
    "rohan = Employee()\n",
    "\n",
    "harry.name = \"Harry\"\n",
    "harry.salary = 455\n",
    "harry.role = \"Instructor\"\n",
    "\n",
    "rohan.name = \"Rohan\"\n",
    "rohan.salary = 200\n",
    "rohan.role = \"Student\"\n",
    "print(harry.no_of_leaves)\n",
    "print(rohan.__dict__)\n",
    "rohan.no_of_leaves = 9\n",
    "print(rohan.__dict__)\n",
    "print(harry.no_of_leaves)"
   ]
  },
  {
   "cell_type": "code",
   "execution_count": 11,
   "metadata": {},
   "outputs": [
    {
     "name": "stdout",
     "output_type": "stream",
     "text": [
      "8\n",
      "{'name': 'Rohan', 'salary': 200, 'role': 'Student'}\n",
      "{'__module__': '__main__', 'no_of_leaves': 8, '__dict__': <attribute '__dict__' of 'Employee' objects>, '__weakref__': <attribute '__weakref__' of 'Employee' objects>, '__doc__': None}\n",
      "8\n"
     ]
    }
   ],
   "source": [
    "class Employee:\n",
    "    no_of_leaves =8\n",
    "    pass\n",
    "\n",
    "harry = Employee()\n",
    "rohan = Employee()\n",
    "\n",
    "harry.name = \"Harry\"\n",
    "harry.salary = 455\n",
    "harry.role = \"Instructor\"\n",
    "\n",
    "rohan.name = \"Rohan\"\n",
    "rohan.salary = 200\n",
    "rohan.role = \"Student\"\n",
    "print(harry.no_of_leaves)\n",
    "print(rohan.__dict__)\n",
    "rohan.no_of_leaves = 9\n",
    "print(Employee.__dict__)\n",
    "print(harry.no_of_leaves)"
   ]
  },
  {
   "cell_type": "code",
   "execution_count": 12,
   "metadata": {},
   "outputs": [
    {
     "name": "stdout",
     "output_type": "stream",
     "text": [
      "8\n",
      "{'name': 'Rohan', 'salary': 200, 'role': 'Student'}\n",
      "{'__module__': '__main__', 'no_of_leaves': 9, '__dict__': <attribute '__dict__' of 'Employee' objects>, '__weakref__': <attribute '__weakref__' of 'Employee' objects>, '__doc__': None}\n",
      "9\n"
     ]
    }
   ],
   "source": [
    "class Employee:\n",
    "    no_of_leaves =8\n",
    "    pass\n",
    "\n",
    "harry = Employee()\n",
    "rohan = Employee()\n",
    "\n",
    "harry.name = \"Harry\"\n",
    "harry.salary = 455\n",
    "harry.role = \"Instructor\"\n",
    "\n",
    "rohan.name = \"Rohan\"\n",
    "rohan.salary = 200\n",
    "rohan.role = \"Student\"\n",
    "print(harry.no_of_leaves)\n",
    "print(rohan.__dict__)\n",
    "Employee.no_of_leaves = 9\n",
    "print(Employee.__dict__)\n",
    "print(harry.no_of_leaves)"
   ]
  }
 ],
 "metadata": {
  "kernelspec": {
   "display_name": "Python 3",
   "language": "python",
   "name": "python3"
  },
  "language_info": {
   "codemirror_mode": {
    "name": "ipython",
    "version": 3
   },
   "file_extension": ".py",
   "mimetype": "text/x-python",
   "name": "python",
   "nbconvert_exporter": "python",
   "pygments_lexer": "ipython3",
   "version": "3.7.3"
  }
 },
 "nbformat": 4,
 "nbformat_minor": 2
}

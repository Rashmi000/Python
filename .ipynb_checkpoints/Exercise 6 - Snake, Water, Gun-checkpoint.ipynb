{
 "cells": [
  {
   "cell_type": "code",
   "execution_count": 2,
   "metadata": {},
   "outputs": [
    {
     "name": "stdout",
     "output_type": "stream",
     "text": [
      "welcome to game :-  ['snake', 'water', 'gun']\n",
      "enter the option by user:-water\n",
      "choice buy computer:- {'snake'}\n",
      "user won\n",
      "\n",
      "enter the option by user:-snake\n",
      "choice buy computer:- {'snake'}\n",
      "draw\n",
      "\n",
      "enter the option by user:-water\n",
      "choice buy computer:- {'gun'}\n",
      "computer won\n",
      "\n",
      "enter the option by user:-gun\n",
      "choice buy computer:- {'water'}\n",
      "computer won\n",
      "\n",
      "enter the option by user:-snake\n",
      "choice buy computer:- {'gun'}\n",
      "computer won\n",
      "\n",
      "enter the option by user:-water\n",
      "choice buy computer:- {'water'}\n",
      "draw\n",
      "\n",
      "enter the option by user:-wat\n",
      "choice buy computer:- {'gun'}\n",
      "nobody wins \n",
      "\n",
      "enter the option by user:-water\n",
      "choice buy computer:- {'snake'}\n",
      "user won\n",
      "\n",
      "enter the option by user:-gun\n",
      "choice buy computer:- {'gun'}\n",
      "draw\n",
      "\n",
      "enter the option by user:-snake\n",
      "choice buy computer:- {'snake'}\n",
      "draw\n",
      "\n",
      "3 2\n"
     ]
    }
   ],
   "source": [
    "\n",
    "import random\n",
    "lst=[\"snake\",\"water\",\"gun\"]\n",
    "print (\"welcome to game :- \", lst)\n",
    "userc=0\n",
    "compc=0\n",
    "i=1\n",
    "for x in range (10):\n",
    "    choice = random.choice(lst)\n",
    "    user=input(\"enter the option by user:-\")\n",
    "    print (f\"choice buy computer:-\", {choice})\n",
    "    if (user==choice):\n",
    "        print (\"draw\\n\")\n",
    "    elif (user==\"snake\" and choice==\"water\"):\n",
    "        print (\"user won\\n\")\n",
    "        userc=userc+1\n",
    "    elif (user==\"snake\" and choice==\"gun\"):\n",
    "        print (\"computer won\\n\")\n",
    "        compc+=1\n",
    "    elif (user==\"water\" and choice==\"snake\"):\n",
    "        print (\"user won\\n\")\n",
    "        userc = userc + 1\n",
    "    elif (user==\"water\" and choice==\"gun\"):\n",
    "        print (\"computer won\\n\")\n",
    "        compc += 1\n",
    "    elif (user==\"gun\" and choice==\"snake\"):\n",
    "        print (\"user won\\n\")\n",
    "        userc = userc + 1\n",
    "    elif (user==\"gun\" and choice==\"water\"):\n",
    "        print (\"computer won\\n\")\n",
    "        compc += 1\n",
    "\n",
    "    else:\n",
    "        print (\"nobody wins \\n\")\n",
    "\n",
    "\n",
    "print (compc,userc)"
   ]
  }
 ],
 "metadata": {
  "kernelspec": {
   "display_name": "Python 3",
   "language": "python",
   "name": "python3"
  },
  "language_info": {
   "codemirror_mode": {
    "name": "ipython",
    "version": 3
   },
   "file_extension": ".py",
   "mimetype": "text/x-python",
   "name": "python",
   "nbconvert_exporter": "python",
   "pygments_lexer": "ipython3",
   "version": "3.7.3"
  }
 },
 "nbformat": 4,
 "nbformat_minor": 2
}

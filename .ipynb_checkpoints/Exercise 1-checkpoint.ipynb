{
 "cells": [
  {
   "cell_type": "code",
   "execution_count": 1,
   "metadata": {},
   "outputs": [
    {
     "name": "stdout",
     "output_type": "stream",
     "text": [
      "Enter user choicepeace\n",
      "peace\n"
     ]
    }
   ],
   "source": [
    "dict ={\"mutable\":\"can be changed\",\"immutable\":\"cannot be changed\",\"peace\":\"quite\",\"edge\":\"boundary\"}\n",
    "dict= input(\"Enter user choice\")\n",
    "print(dict)"
   ]
  },
  {
   "cell_type": "code",
   "execution_count": 2,
   "metadata": {},
   "outputs": [
    {
     "name": "stdout",
     "output_type": "stream",
     "text": [
      "Enter user choice box\n",
      "box\n"
     ]
    }
   ],
   "source": [
    "dict ={\"mutable\":\"can be changed\",\"immutable\":\"cannot be changed\",\"peace\":\"quite\",\"edge\":\"boundary\"}\n",
    "dict= input(\"Enter user choice \")\n",
    "print(dict)"
   ]
  },
  {
   "cell_type": "code",
   "execution_count": 8,
   "metadata": {},
   "outputs": [
    {
     "name": "stdout",
     "output_type": "stream",
     "text": [
      "Enter user choicemutable\n",
      "can be changed\n"
     ]
    }
   ],
   "source": [
    "d1 ={\"mutable\":\"can be changed\",\"immutable\":\"cannot be changed\",\"peace\":\"quite\",\"edge\":\"boundary\"}\n",
    "choice= input(\"Enter user choice\")\n",
    "print(d1[choice])"
   ]
  },
  {
   "cell_type": "code",
   "execution_count": 9,
   "metadata": {},
   "outputs": [
    {
     "name": "stdout",
     "output_type": "stream",
     "text": [
      "Enter user choicebox\n"
     ]
    },
    {
     "ename": "TypeError",
     "evalue": "string indices must be integers",
     "output_type": "error",
     "traceback": [
      "\u001b[1;31m---------------------------------------------------------------------------\u001b[0m",
      "\u001b[1;31mTypeError\u001b[0m                                 Traceback (most recent call last)",
      "\u001b[1;32m<ipython-input-9-3d4fe980ce13>\u001b[0m in \u001b[0;36m<module>\u001b[1;34m\u001b[0m\n\u001b[0;32m      1\u001b[0m \u001b[0mdict\u001b[0m \u001b[1;33m=\u001b[0m\u001b[1;33m{\u001b[0m\u001b[1;34m\"mutable\"\u001b[0m\u001b[1;33m:\u001b[0m\u001b[1;34m\"can be changed\"\u001b[0m\u001b[1;33m,\u001b[0m\u001b[1;34m\"immutable\"\u001b[0m\u001b[1;33m:\u001b[0m\u001b[1;34m\"cannot be changed\"\u001b[0m\u001b[1;33m,\u001b[0m\u001b[1;34m\"peace\"\u001b[0m\u001b[1;33m:\u001b[0m\u001b[1;34m\"quite\"\u001b[0m\u001b[1;33m,\u001b[0m\u001b[1;34m\"edge\"\u001b[0m\u001b[1;33m:\u001b[0m\u001b[1;34m\"boundary\"\u001b[0m\u001b[1;33m}\u001b[0m\u001b[1;33m\u001b[0m\u001b[1;33m\u001b[0m\u001b[0m\n\u001b[0;32m      2\u001b[0m \u001b[0md1\u001b[0m\u001b[1;33m=\u001b[0m \u001b[0minput\u001b[0m\u001b[1;33m(\u001b[0m\u001b[1;34m\"Enter user choice\"\u001b[0m\u001b[1;33m)\u001b[0m\u001b[1;33m\u001b[0m\u001b[1;33m\u001b[0m\u001b[0m\n\u001b[1;32m----> 3\u001b[1;33m \u001b[0mprint\u001b[0m\u001b[1;33m(\u001b[0m\u001b[0md1\u001b[0m\u001b[1;33m[\u001b[0m\u001b[0mdict\u001b[0m\u001b[1;33m]\u001b[0m\u001b[1;33m)\u001b[0m\u001b[1;33m\u001b[0m\u001b[1;33m\u001b[0m\u001b[0m\n\u001b[0m",
      "\u001b[1;31mTypeError\u001b[0m: string indices must be integers"
     ]
    }
   ],
   "source": [
    "dict ={\"mutable\":\"can be changed\",\"immutable\":\"cannot be changed\",\"peace\":\"quite\",\"edge\":\"boundary\"}\n",
    "d1= input(\"Enter user choice\")\n",
    "print(d1[dict])"
   ]
  },
  {
   "cell_type": "code",
   "execution_count": 11,
   "metadata": {},
   "outputs": [
    {
     "name": "stdout",
     "output_type": "stream",
     "text": [
      "Enter user choicepeace\n",
      "quite\n"
     ]
    }
   ],
   "source": [
    "dict ={\"mutable\":\"can be changed\",\"immutable\":\"cannot be changed\",\"peace\":\"quite\",\"edge\":\"boundary\"}\n",
    "d1= input(\"Enter user choice\")\n",
    "print(dict[d1])"
   ]
  }
 ],
 "metadata": {
  "kernelspec": {
   "display_name": "Python 3",
   "language": "python",
   "name": "python3"
  },
  "language_info": {
   "codemirror_mode": {
    "name": "ipython",
    "version": 3
   },
   "file_extension": ".py",
   "mimetype": "text/x-python",
   "name": "python",
   "nbconvert_exporter": "python",
   "pygments_lexer": "ipython3",
   "version": "3.7.3"
  }
 },
 "nbformat": 4,
 "nbformat_minor": 2
}

{
 "cells": [
  {
   "cell_type": "code",
   "execution_count": 1,
   "metadata": {},
   "outputs": [
    {
     "name": "stdout",
     "output_type": "stream",
     "text": [
      "Enter Integer :5\n",
      "Enter the Boolean value(1 or 0) :0\n",
      "***************"
     ]
    }
   ],
   "source": [
    "a= int(input(\"Enter Integer :\"))\n",
    "b= int(input(\"Enter the Boolean value(1 or 0) :\"))\n",
    "\n",
    "if b:\n",
    "    for x in range(1,a+1):\n",
    "        for a in range(x):\n",
    "            print(\"*\",end=\"\")\n",
    "            \n",
    "else:\n",
    "    for x in range(a,0,-1):\n",
    "        for a in range(x):\n",
    "            print(\"*\",end=\"\")"
   ]
  },
  {
   "cell_type": "code",
   "execution_count": 2,
   "metadata": {},
   "outputs": [
    {
     "name": "stdout",
     "output_type": "stream",
     "text": [
      "Enter Integer :4\n",
      "Enter the Boolean value(1 or 0) :1\n",
      "\n",
      "\n",
      "*\n",
      "\n",
      "**\n",
      "\n",
      "***\n",
      "\n",
      "****"
     ]
    }
   ],
   "source": [
    "a= int(input(\"Enter Integer :\"))\n",
    "b= int(input(\"Enter the Boolean value(1 or 0) :\"))\n",
    "\n",
    "if b:\n",
    "    for x in range(1,a+1):\n",
    "        print(\"\\n\")\n",
    "        for a in range(x):\n",
    "            print(\"*\",end=\"\")\n",
    "            \n",
    "else:\n",
    "    for x in range(a,0,-1):\n",
    "        print(\"\\n\")\n",
    "        for a in range(x):\n",
    "            print(\"*\",end=\"\")"
   ]
  },
  {
   "cell_type": "code",
   "execution_count": 3,
   "metadata": {},
   "outputs": [
    {
     "name": "stdout",
     "output_type": "stream",
     "text": [
      "Enter Integer :5\n",
      "Enter the Boolean value(1 or 0) :0\n",
      "\n",
      "\n",
      "*****\n",
      "\n",
      "****\n",
      "\n",
      "***\n",
      "\n",
      "**\n",
      "\n",
      "*"
     ]
    }
   ],
   "source": [
    "a= int(input(\"Enter Integer :\"))\n",
    "b= int(input(\"Enter the Boolean value(1 or 0) :\"))\n",
    "\n",
    "if b:\n",
    "    for x in range(1,a+1):\n",
    "        print(\"\\n\")\n",
    "        for a in range(x):\n",
    "            print(\"*\",end=\"\")\n",
    "            \n",
    "else:\n",
    "    for x in range(a,0,-1):\n",
    "        print(\"\\n\")\n",
    "        for a in range(x):\n",
    "            print(\"*\",end=\"\")"
   ]
  }
 ],
 "metadata": {
  "kernelspec": {
   "display_name": "Python 3",
   "language": "python",
   "name": "python3"
  },
  "language_info": {
   "codemirror_mode": {
    "name": "ipython",
    "version": 3
   },
   "file_extension": ".py",
   "mimetype": "text/x-python",
   "name": "python",
   "nbconvert_exporter": "python",
   "pygments_lexer": "ipython3",
   "version": "3.7.3"
  }
 },
 "nbformat": 4,
 "nbformat_minor": 2
}

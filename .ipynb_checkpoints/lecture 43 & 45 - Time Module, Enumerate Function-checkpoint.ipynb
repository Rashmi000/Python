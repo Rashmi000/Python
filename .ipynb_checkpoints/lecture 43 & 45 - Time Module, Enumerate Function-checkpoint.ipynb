{
 "cells": [
  {
   "cell_type": "code",
   "execution_count": 7,
   "metadata": {},
   "outputs": [
    {
     "name": "stdout",
     "output_type": "stream",
     "text": [
      "Hello\n",
      "\n",
      "\n",
      "Hello\n",
      "\n",
      "\n",
      "Hello\n",
      "\n",
      "\n",
      "Hello\n",
      "\n",
      "\n",
      "Hello\n",
      "\n",
      "\n",
      "Hello\n",
      "\n",
      "\n",
      "Hello\n",
      "Hello\n",
      "Hello\n",
      "Hello\n",
      "Hello\n",
      "Hello\n",
      "Hello\n",
      "Hello\n",
      "Hello\n",
      "Hello\n"
     ]
    }
   ],
   "source": [
    "import time\n",
    "\n",
    "k=0\n",
    "while(k<=5):\n",
    "    print(\"Hello\")\n",
    "    k+=1\n",
    "    print(\"\\n\")\n",
    "    \n",
    "for i in range(10):\n",
    "    print(\"Hello\")"
   ]
  },
  {
   "cell_type": "code",
   "execution_count": 15,
   "metadata": {
    "scrolled": true
   },
   "outputs": [
    {
     "name": "stdout",
     "output_type": "stream",
     "text": [
      "Hello\n",
      "Hello\n",
      "Hello\n",
      "Hello\n",
      "Hello\n",
      "Hello\n",
      "\n",
      "While loop ran in  0.0 seconds\n",
      "\n",
      "Hello\n",
      "Hello\n",
      "Hello\n",
      "Hello\n",
      "Hello\n",
      "Hello\n",
      "Hello\n",
      "Hello\n",
      "Hello\n",
      "Hello\n",
      "\n",
      "While loop ran in  0.0009999275207519531 seconds\n",
      "\n"
     ]
    }
   ],
   "source": [
    "import time\n",
    "\n",
    "initial1=time.time()\n",
    "\n",
    "k=0\n",
    "while(k<=5):\n",
    "    print(\"Hello\")\n",
    "    k+=1\n",
    "print(\"\\nWhile loop ran in \",time.time()-initial1,\"seconds\\n\")\n",
    " \n",
    "    \n",
    "initial2=time.time()\n",
    "for i in range(10):\n",
    "    print(\"Hello\")\n",
    "print(\"\\nWhile loop ran in \",time.time()-initial2,\"seconds\\n\")"
   ]
  },
  {
   "cell_type": "code",
   "execution_count": 16,
   "metadata": {},
   "outputs": [
    {
     "name": "stdout",
     "output_type": "stream",
     "text": [
      "Sat Nov  9 14:04:30 2019\n"
     ]
    }
   ],
   "source": [
    "import time\n",
    "\n",
    "localtime = time.asctime(time.localtime(time.time()))\n",
    "print(localtime)"
   ]
  },
  {
   "cell_type": "code",
   "execution_count": 18,
   "metadata": {},
   "outputs": [
    {
     "name": "stdout",
     "output_type": "stream",
     "text": [
      "Hello\n",
      "Hello\n",
      "Hello\n",
      "Hello\n",
      "Hello\n",
      "Hello\n",
      "\n",
      "While loop ran in  30.028605461120605 seconds\n",
      "\n"
     ]
    }
   ],
   "source": [
    "import time\n",
    "\n",
    "initial1=time.time()\n",
    "\n",
    "k=0\n",
    "while(k<=5):\n",
    "    print(\"Hello\")\n",
    "    time.sleep(5)\n",
    "    k+=1\n",
    "print(\"\\nWhile loop ran in \",time.time()-initial1,\"seconds\\n\")\n",
    " "
   ]
  },
  {
   "cell_type": "code",
   "execution_count": null,
   "metadata": {},
   "outputs": [],
   "source": []
  },
  {
   "cell_type": "code",
   "execution_count": 19,
   "metadata": {},
   "outputs": [
    {
     "name": "stdout",
     "output_type": "stream",
     "text": [
      "Jarvis please buy Bhindi\n",
      "Jarvis please buy Chopstick\n"
     ]
    }
   ],
   "source": [
    "l1=[\"Bhindi\",\"Aloo\",\"Chopstick\",\"Chinese\"]\n",
    "\n",
    "i=1\n",
    "\n",
    "for item in l1:\n",
    "    if i%2 is not 0:\n",
    "        print(f\"Jarvis please buy {item}\")\n",
    "    i+=1"
   ]
  },
  {
   "cell_type": "code",
   "execution_count": 20,
   "metadata": {},
   "outputs": [
    {
     "name": "stdout",
     "output_type": "stream",
     "text": [
      "Jarvis please buy Bhindi\n",
      "Jarvis please buy Chopstick\n"
     ]
    }
   ],
   "source": [
    "l1=[\"Bhindi\",\"Aloo\",\"Chopstick\",\"Chinese\"]\n",
    "\n",
    "for index,item in enumerate(l1):\n",
    "    if index %2==0:\n",
    "        print(f\"Jarvis please buy {item}\")"
   ]
  }
 ],
 "metadata": {
  "kernelspec": {
   "display_name": "Python 3",
   "language": "python",
   "name": "python3"
  },
  "language_info": {
   "codemirror_mode": {
    "name": "ipython",
    "version": 3
   },
   "file_extension": ".py",
   "mimetype": "text/x-python",
   "name": "python",
   "nbconvert_exporter": "python",
   "pygments_lexer": "ipython3",
   "version": "3.7.3"
  }
 },
 "nbformat": 4,
 "nbformat_minor": 2
}

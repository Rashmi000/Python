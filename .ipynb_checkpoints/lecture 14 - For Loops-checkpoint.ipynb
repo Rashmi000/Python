{
 "cells": [
  {
   "cell_type": "code",
   "execution_count": 1,
   "metadata": {},
   "outputs": [
    {
     "name": "stdout",
     "output_type": "stream",
     "text": [
      "['Harry', 'Larry', 'Carry', 'Marie']\n"
     ]
    }
   ],
   "source": [
    "list = [\"Harry\",\"Larry\",\"Carry\",\"Marie\"]\n",
    "\n",
    "print(list)"
   ]
  },
  {
   "cell_type": "code",
   "execution_count": 3,
   "metadata": {},
   "outputs": [
    {
     "name": "stdout",
     "output_type": "stream",
     "text": [
      "Harry\n",
      "Larry\n",
      "Carry\n",
      "Marie\n"
     ]
    }
   ],
   "source": [
    "list = [\"Harry\",\"Larry\",\"Carry\",\"Marie\"]\n",
    "\n",
    "for item in list:\n",
    "    print(item)"
   ]
  },
  {
   "cell_type": "code",
   "execution_count": 4,
   "metadata": {},
   "outputs": [
    {
     "name": "stdout",
     "output_type": "stream",
     "text": [
      "['Harry', 1]\n",
      "['Larry', 3]\n",
      "['Carry', 2]\n",
      "['Marie', 5]\n"
     ]
    }
   ],
   "source": [
    "list = [[\"Harry\",1],[\"Larry\",3],[\"Carry\",2],[\"Marie\",5]]\n",
    "\n",
    "for item in list:\n",
    "    print(item)"
   ]
  },
  {
   "cell_type": "code",
   "execution_count": 5,
   "metadata": {},
   "outputs": [
    {
     "name": "stdout",
     "output_type": "stream",
     "text": [
      "Harry 1\n",
      "Larry 3\n",
      "Carry 2\n",
      "Marie 5\n"
     ]
    }
   ],
   "source": [
    "list = [[\"Harry\",1],[\"Larry\",3],[\"Carry\",2],[\"Marie\",5]]\n",
    "\n",
    "for item,Chocolate in list:\n",
    "    print(item,Chocolate)"
   ]
  },
  {
   "cell_type": "code",
   "execution_count": 6,
   "metadata": {},
   "outputs": [
    {
     "name": "stdout",
     "output_type": "stream",
     "text": [
      "Harry no. of chocolates eaten:  1\n",
      "Larry no. of chocolates eaten:  3\n",
      "Carry no. of chocolates eaten:  2\n",
      "Marie no. of chocolates eaten:  5\n"
     ]
    }
   ],
   "source": [
    "list = [[\"Harry\",1],[\"Larry\",3],[\"Carry\",2],[\"Marie\",5]]\n",
    "\n",
    "for item,Chocolate in list:\n",
    "    print(item,\"no. of chocolates eaten: \",Chocolate)"
   ]
  },
  {
   "cell_type": "code",
   "execution_count": 7,
   "metadata": {},
   "outputs": [
    {
     "name": "stdout",
     "output_type": "stream",
     "text": [
      "Harry 1\n",
      "Larry 3\n",
      "Carry 2\n",
      "Marie 5\n"
     ]
    }
   ],
   "source": [
    "list = [[\"Harry\",1],[\"Larry\",3],[\"Carry\",2],[\"Marie\",5]]\n",
    "\n",
    "dict1=dict(list)\n",
    "\n",
    "for item,Chocolate in list:\n",
    "    print(item,Chocolate)"
   ]
  },
  {
   "cell_type": "code",
   "execution_count": 10,
   "metadata": {},
   "outputs": [
    {
     "ename": "SyntaxError",
     "evalue": "invalid syntax (<ipython-input-10-d2394f293eea>, line 6)",
     "output_type": "error",
     "traceback": [
      "\u001b[1;36m  File \u001b[1;32m\"<ipython-input-10-d2394f293eea>\"\u001b[1;36m, line \u001b[1;32m6\u001b[0m\n\u001b[1;33m    print(item,\"no. of chocolates eaten: \"Chocolate)\u001b[0m\n\u001b[1;37m                                                  ^\u001b[0m\n\u001b[1;31mSyntaxError\u001b[0m\u001b[1;31m:\u001b[0m invalid syntax\n"
     ]
    }
   ],
   "source": [
    "list1 = [[\"Harry\",1],[\"Larry\",3],[\"Carry\",2],[\"Marie\",5]]\n",
    "\n",
    "dict1=dict(list1)\n",
    "\n",
    "for item,Chocolate in dict1.items():\n",
    "    print(item,\"no. of chocolates eaten: \"Chocolate)"
   ]
  },
  {
   "cell_type": "code",
   "execution_count": 11,
   "metadata": {},
   "outputs": [
    {
     "name": "stdout",
     "output_type": "stream",
     "text": [
      "Harry\n",
      "Larry\n",
      "Carry\n",
      "Marie\n"
     ]
    }
   ],
   "source": [
    "list1 = [[\"Harry\",1],[\"Larry\",3],[\"Carry\",2],[\"Marie\",5]]\n",
    "\n",
    "dict1=dict(list1)\n",
    "\n",
    "for item in dict1:\n",
    "    print(item)"
   ]
  },
  {
   "cell_type": "code",
   "execution_count": null,
   "metadata": {},
   "outputs": [],
   "source": [
    "QUIZ"
   ]
  },
  {
   "cell_type": "code",
   "execution_count": 14,
   "metadata": {},
   "outputs": [
    {
     "name": "stdout",
     "output_type": "stream",
     "text": [
      "2\n",
      "3\n",
      "6\n",
      "Joe\n",
      "8\n",
      "9\n",
      "Sam\n"
     ]
    }
   ],
   "source": [
    "lst=[2,3,6,\"Joe\",8,9,\"Sam\"]\n",
    "\n",
    "for item in lst:\n",
    "    print(item)"
   ]
  },
  {
   "cell_type": "code",
   "execution_count": 18,
   "metadata": {},
   "outputs": [
    {
     "name": "stdout",
     "output_type": "stream",
     "text": [
      "8\n",
      "9\n"
     ]
    }
   ],
   "source": [
    "lst=[2,3,6,\"Joe\",8,9,\"Sam\"]\n",
    "\n",
    "for item in lst:\n",
    "    if str(item).isnumeric() and item>6:\n",
    "        print(item)"
   ]
  },
  {
   "cell_type": "code",
   "execution_count": 17,
   "metadata": {},
   "outputs": [
    {
     "ename": "AttributeError",
     "evalue": "'int' object has no attribute 'isnumeric'",
     "output_type": "error",
     "traceback": [
      "\u001b[1;31m---------------------------------------------------------------------------\u001b[0m",
      "\u001b[1;31mAttributeError\u001b[0m                            Traceback (most recent call last)",
      "\u001b[1;32m<ipython-input-17-3a2dbb793782>\u001b[0m in \u001b[0;36m<module>\u001b[1;34m\u001b[0m\n\u001b[0;32m      2\u001b[0m \u001b[1;33m\u001b[0m\u001b[0m\n\u001b[0;32m      3\u001b[0m \u001b[1;32mfor\u001b[0m \u001b[0mitem\u001b[0m \u001b[1;32min\u001b[0m \u001b[0mlst\u001b[0m\u001b[1;33m:\u001b[0m\u001b[1;33m\u001b[0m\u001b[1;33m\u001b[0m\u001b[0m\n\u001b[1;32m----> 4\u001b[1;33m     \u001b[1;32mif\u001b[0m \u001b[0mitem\u001b[0m\u001b[1;33m.\u001b[0m\u001b[0misnumeric\u001b[0m\u001b[1;33m(\u001b[0m\u001b[1;33m)\u001b[0m \u001b[1;32mand\u001b[0m \u001b[0mitem\u001b[0m\u001b[1;33m>\u001b[0m\u001b[1;36m6\u001b[0m\u001b[1;33m:\u001b[0m\u001b[1;33m\u001b[0m\u001b[1;33m\u001b[0m\u001b[0m\n\u001b[0m\u001b[0;32m      5\u001b[0m         \u001b[0mprint\u001b[0m\u001b[1;33m(\u001b[0m\u001b[0mitem\u001b[0m\u001b[1;33m)\u001b[0m\u001b[1;33m\u001b[0m\u001b[1;33m\u001b[0m\u001b[0m\n",
      "\u001b[1;31mAttributeError\u001b[0m: 'int' object has no attribute 'isnumeric'"
     ]
    }
   ],
   "source": [
    "lst=[2,3,6,\"Joe\",8,9,\"Sam\"]\n",
    "\n",
    "for item in lst:\n",
    "    if item.isnumeric() and item>6:\n",
    "        print(item)"
   ]
  }
 ],
 "metadata": {
  "kernelspec": {
   "display_name": "Python 3",
   "language": "python",
   "name": "python3"
  },
  "language_info": {
   "codemirror_mode": {
    "name": "ipython",
    "version": 3
   },
   "file_extension": ".py",
   "mimetype": "text/x-python",
   "name": "python",
   "nbconvert_exporter": "python",
   "pygments_lexer": "ipython3",
   "version": "3.7.3"
  }
 },
 "nbformat": 4,
 "nbformat_minor": 2
}

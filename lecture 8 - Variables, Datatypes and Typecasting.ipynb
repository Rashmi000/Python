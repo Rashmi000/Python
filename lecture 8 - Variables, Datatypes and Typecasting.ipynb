{
 "cells": [
  {
   "cell_type": "code",
   "execution_count": 1,
   "metadata": {},
   "outputs": [
    {
     "name": "stdout",
     "output_type": "stream",
     "text": [
      "Hello\n"
     ]
    }
   ],
   "source": [
    "var1=\"Hello\"\n",
    "print(var1)"
   ]
  },
  {
   "cell_type": "code",
   "execution_count": 2,
   "metadata": {},
   "outputs": [
    {
     "name": "stdout",
     "output_type": "stream",
     "text": [
      "5\n"
     ]
    }
   ],
   "source": [
    "var1=\"Hello\"\n",
    "var2=5\n",
    "var3=12.5\n",
    "print(var2)"
   ]
  },
  {
   "cell_type": "code",
   "execution_count": 3,
   "metadata": {},
   "outputs": [
    {
     "name": "stdout",
     "output_type": "stream",
     "text": [
      "<class 'str'>\n"
     ]
    }
   ],
   "source": [
    "var1=\"Hello\"\n",
    "var2=5\n",
    "var3=12.5\n",
    "print(type(var1))"
   ]
  },
  {
   "cell_type": "code",
   "execution_count": 4,
   "metadata": {},
   "outputs": [
    {
     "name": "stdout",
     "output_type": "stream",
     "text": [
      "<class 'int'>\n"
     ]
    }
   ],
   "source": [
    "var1=\"Hello\"\n",
    "var2=5\n",
    "var3=12.5\n",
    "print(type(var2))"
   ]
  },
  {
   "cell_type": "code",
   "execution_count": 5,
   "metadata": {},
   "outputs": [
    {
     "name": "stdout",
     "output_type": "stream",
     "text": [
      "<class 'float'>\n"
     ]
    }
   ],
   "source": [
    "var1=\"Hello\"\n",
    "var2=5\n",
    "var3=12.5\n",
    "print(type(var3))"
   ]
  },
  {
   "cell_type": "code",
   "execution_count": 6,
   "metadata": {},
   "outputs": [
    {
     "name": "stdout",
     "output_type": "stream",
     "text": [
      "17.5\n"
     ]
    }
   ],
   "source": [
    "var1=\"Hello\"\n",
    "var2=5\n",
    "var3=12.5\n",
    "print(var2 +var3)"
   ]
  },
  {
   "cell_type": "code",
   "execution_count": 7,
   "metadata": {},
   "outputs": [
    {
     "ename": "TypeError",
     "evalue": "can only concatenate str (not \"float\") to str",
     "output_type": "error",
     "traceback": [
      "\u001b[1;31m---------------------------------------------------------------------------\u001b[0m",
      "\u001b[1;31mTypeError\u001b[0m                                 Traceback (most recent call last)",
      "\u001b[1;32m<ipython-input-7-94c55bd21c12>\u001b[0m in \u001b[0;36m<module>\u001b[1;34m\u001b[0m\n\u001b[0;32m      2\u001b[0m \u001b[0mvar2\u001b[0m\u001b[1;33m=\u001b[0m\u001b[1;36m5\u001b[0m\u001b[1;33m\u001b[0m\u001b[1;33m\u001b[0m\u001b[0m\n\u001b[0;32m      3\u001b[0m \u001b[0mvar3\u001b[0m\u001b[1;33m=\u001b[0m\u001b[1;36m12.5\u001b[0m\u001b[1;33m\u001b[0m\u001b[1;33m\u001b[0m\u001b[0m\n\u001b[1;32m----> 4\u001b[1;33m \u001b[0mprint\u001b[0m\u001b[1;33m(\u001b[0m\u001b[0mvar1\u001b[0m \u001b[1;33m+\u001b[0m\u001b[0mvar3\u001b[0m\u001b[1;33m)\u001b[0m\u001b[1;33m\u001b[0m\u001b[1;33m\u001b[0m\u001b[0m\n\u001b[0m",
      "\u001b[1;31mTypeError\u001b[0m: can only concatenate str (not \"float\") to str"
     ]
    }
   ],
   "source": [
    "var1=\"Hello\"\n",
    "var2=5\n",
    "var3=12.5\n",
    "print(var1 +var3)"
   ]
  },
  {
   "cell_type": "code",
   "execution_count": 9,
   "metadata": {},
   "outputs": [
    {
     "name": "stdout",
     "output_type": "stream",
     "text": [
      "Hello Harry\n"
     ]
    }
   ],
   "source": [
    "var1=\"Hello \"\n",
    "var2=5\n",
    "var3=12.5\n",
    "var4=\"Harry\"\n",
    "print(var1 +var4)"
   ]
  },
  {
   "cell_type": "code",
   "execution_count": 10,
   "metadata": {},
   "outputs": [
    {
     "name": "stdout",
     "output_type": "stream",
     "text": [
      "Hello 32\n"
     ]
    }
   ],
   "source": [
    "var1=\"Hello \"\n",
    "var2=5\n",
    "var3=12.5\n",
    "var4=\"32\"\n",
    "print(var1 +var4)"
   ]
  },
  {
   "cell_type": "code",
   "execution_count": 12,
   "metadata": {},
   "outputs": [
    {
     "name": "stdout",
     "output_type": "stream",
     "text": [
      "54 32\n"
     ]
    }
   ],
   "source": [
    "var1=\"54 \"\n",
    "var2=5\n",
    "var3=12.5\n",
    "var4=\"32\"\n",
    "print(var1 +var4)"
   ]
  },
  {
   "cell_type": "code",
   "execution_count": 13,
   "metadata": {},
   "outputs": [
    {
     "ename": "TypeError",
     "evalue": "unsupported operand type(s) for +: 'int' and 'str'",
     "output_type": "error",
     "traceback": [
      "\u001b[1;31m---------------------------------------------------------------------------\u001b[0m",
      "\u001b[1;31mTypeError\u001b[0m                                 Traceback (most recent call last)",
      "\u001b[1;32m<ipython-input-13-704798b9d9ed>\u001b[0m in \u001b[0;36m<module>\u001b[1;34m\u001b[0m\n\u001b[0;32m      3\u001b[0m \u001b[0mvar3\u001b[0m\u001b[1;33m=\u001b[0m\u001b[1;36m12.5\u001b[0m\u001b[1;33m\u001b[0m\u001b[1;33m\u001b[0m\u001b[0m\n\u001b[0;32m      4\u001b[0m \u001b[0mvar4\u001b[0m\u001b[1;33m=\u001b[0m\u001b[1;34m\"32\"\u001b[0m\u001b[1;33m\u001b[0m\u001b[1;33m\u001b[0m\u001b[0m\n\u001b[1;32m----> 5\u001b[1;33m \u001b[0mprint\u001b[0m\u001b[1;33m(\u001b[0m\u001b[0mint\u001b[0m\u001b[1;33m(\u001b[0m\u001b[0mvar1\u001b[0m\u001b[1;33m)\u001b[0m \u001b[1;33m+\u001b[0m\u001b[0mvar4\u001b[0m\u001b[1;33m)\u001b[0m\u001b[1;33m\u001b[0m\u001b[1;33m\u001b[0m\u001b[0m\n\u001b[0m",
      "\u001b[1;31mTypeError\u001b[0m: unsupported operand type(s) for +: 'int' and 'str'"
     ]
    }
   ],
   "source": [
    "var1=\"54 \"\n",
    "var2=5\n",
    "var3=12.5\n",
    "var4=\"32\"\n",
    "print(int(var1) +var4)"
   ]
  },
  {
   "cell_type": "code",
   "execution_count": 14,
   "metadata": {},
   "outputs": [
    {
     "name": "stdout",
     "output_type": "stream",
     "text": [
      "86\n"
     ]
    }
   ],
   "source": [
    "var1=\"54 \"\n",
    "var2=5\n",
    "var3=12.5\n",
    "var4=\"32\"\n",
    "print(int(var1) +int(var4))"
   ]
  },
  {
   "cell_type": "code",
   "execution_count": 16,
   "metadata": {},
   "outputs": [
    {
     "name": "stdout",
     "output_type": "stream",
     "text": [
      "Hello Hello Hello Hello Hello Hello Hello Hello Hello Hello \n"
     ]
    }
   ],
   "source": [
    "print(10 *\"Hello \")"
   ]
  },
  {
   "cell_type": "code",
   "execution_count": 17,
   "metadata": {},
   "outputs": [
    {
     "name": "stdout",
     "output_type": "stream",
     "text": [
      "Hello\n",
      "Hello\n",
      "Hello\n",
      "Hello\n",
      "Hello\n",
      "Hello\n",
      "Hello\n",
      "Hello\n",
      "Hello\n",
      "Hello\n",
      "\n"
     ]
    }
   ],
   "source": [
    "print(10 *\"Hello\\n\")"
   ]
  },
  {
   "cell_type": "code",
   "execution_count": 18,
   "metadata": {},
   "outputs": [
    {
     "name": "stdout",
     "output_type": "stream",
     "text": [
      "572\n"
     ]
    }
   ],
   "source": [
    "var1=\"54 \"\n",
    "var2=5\n",
    "var3=12.5\n",
    "var4=\"32\"\n",
    "print(10 * int(var1) +int(var4))"
   ]
  },
  {
   "cell_type": "code",
   "execution_count": 23,
   "metadata": {},
   "outputs": [
    {
     "name": "stdout",
     "output_type": "stream",
     "text": [
      "555555555512.5\n"
     ]
    }
   ],
   "source": [
    "var1=\"54 \"\n",
    "var2=5\n",
    "var3=12.5\n",
    "var4=\"32\"\n",
    "print(10 *str(var2) +str(var3))"
   ]
  },
  {
   "cell_type": "code",
   "execution_count": 24,
   "metadata": {},
   "outputs": [
    {
     "name": "stdout",
     "output_type": "stream",
     "text": [
      "Enter your number\n",
      "12\n"
     ]
    }
   ],
   "source": [
    "print(\"Enter your number\")\n",
    "inpnum = input()"
   ]
  },
  {
   "cell_type": "code",
   "execution_count": 25,
   "metadata": {},
   "outputs": [
    {
     "name": "stdout",
     "output_type": "stream",
     "text": [
      "Enter your number\n",
      "30\n",
      "you have entered 30\n"
     ]
    }
   ],
   "source": [
    "print(\"Enter your number\")\n",
    "inpnum = input()\n",
    "\n",
    "print(\"you have entered\",inpnum)"
   ]
  },
  {
   "cell_type": "code",
   "execution_count": 26,
   "metadata": {},
   "outputs": [
    {
     "name": "stdout",
     "output_type": "stream",
     "text": [
      "Enter your number\n",
      "12\n",
      "you have entered 12121212121212121212\n"
     ]
    }
   ],
   "source": [
    "print(\"Enter your number\")\n",
    "inpnum = input()\n",
    "\n",
    "print(\"you have entered\",inpnum * 10)"
   ]
  },
  {
   "cell_type": "code",
   "execution_count": 27,
   "metadata": {},
   "outputs": [
    {
     "name": "stdout",
     "output_type": "stream",
     "text": [
      "Enter your number\n",
      "3\n",
      "you have entered 30\n"
     ]
    }
   ],
   "source": [
    "print(\"Enter your number\")\n",
    "inpnum = input()\n",
    "\n",
    "print(\"you have entered\",int(inpnum) * 10)"
   ]
  },
  {
   "cell_type": "code",
   "execution_count": null,
   "metadata": {},
   "outputs": [],
   "source": [
    "Addition of two no.s"
   ]
  },
  {
   "cell_type": "code",
   "execution_count": 29,
   "metadata": {},
   "outputs": [
    {
     "name": "stdout",
     "output_type": "stream",
     "text": [
      "25\n"
     ]
    }
   ],
   "source": [
    "vara = 12\n",
    "varb = 13\n",
    "print(vara+varb)"
   ]
  },
  {
   "cell_type": "code",
   "execution_count": 30,
   "metadata": {},
   "outputs": [
    {
     "name": "stdout",
     "output_type": "stream",
     "text": [
      "Enter first no.\n",
      "12\n",
      "Enter second no.\n",
      "13\n",
      "Sum of two no.s\n"
     ]
    }
   ],
   "source": [
    "print(\"Enter first no.\")\n",
    "n1= input()\n",
    "\n",
    "print(\"Enter second no.\")\n",
    "n2= input()\n",
    "\n",
    "print(\"Sum of two no.s\")"
   ]
  },
  {
   "cell_type": "code",
   "execution_count": 31,
   "metadata": {},
   "outputs": [
    {
     "name": "stdout",
     "output_type": "stream",
     "text": [
      "Enter first no.\n",
      "5\n",
      "Enter second no.\n",
      "6\n",
      "Sum of two no.s 11\n"
     ]
    }
   ],
   "source": [
    "print(\"Enter first no.\")\n",
    "n1= input()\n",
    "\n",
    "print(\"Enter second no.\")\n",
    "n2= input()\n",
    "\n",
    "print(\"Sum of two no.s\",int(n1)+int(n2))"
   ]
  }
 ],
 "metadata": {
  "kernelspec": {
   "display_name": "Python 3",
   "language": "python",
   "name": "python3"
  },
  "language_info": {
   "codemirror_mode": {
    "name": "ipython",
    "version": 3
   },
   "file_extension": ".py",
   "mimetype": "text/x-python",
   "name": "python",
   "nbconvert_exporter": "python",
   "pygments_lexer": "ipython3",
   "version": "3.7.3"
  }
 },
 "nbformat": 4,
 "nbformat_minor": 2
}

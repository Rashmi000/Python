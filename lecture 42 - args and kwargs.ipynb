{
 "cells": [
  {
   "cell_type": "code",
   "execution_count": 1,
   "metadata": {},
   "outputs": [
    {
     "name": "stdout",
     "output_type": "stream",
     "text": [
      "Harry Sam John joe\n"
     ]
    }
   ],
   "source": [
    "def function_name_print(a,b,c,d):\n",
    "    print(a,b,c,d)\n",
    "\n",
    "function_name_print(\"Harry\",\"Sam\",\"John\",\"joe\")"
   ]
  },
  {
   "cell_type": "code",
   "execution_count": 2,
   "metadata": {},
   "outputs": [
    {
     "ename": "TypeError",
     "evalue": "function_name_print() takes 4 positional arguments but 5 were given",
     "output_type": "error",
     "traceback": [
      "\u001b[1;31m---------------------------------------------------------------------------\u001b[0m",
      "\u001b[1;31mTypeError\u001b[0m                                 Traceback (most recent call last)",
      "\u001b[1;32m<ipython-input-2-ec28d8f31e3d>\u001b[0m in \u001b[0;36m<module>\u001b[1;34m\u001b[0m\n\u001b[0;32m      2\u001b[0m     \u001b[0mprint\u001b[0m\u001b[1;33m(\u001b[0m\u001b[0ma\u001b[0m\u001b[1;33m,\u001b[0m\u001b[0mb\u001b[0m\u001b[1;33m,\u001b[0m\u001b[0mc\u001b[0m\u001b[1;33m,\u001b[0m\u001b[0md\u001b[0m\u001b[1;33m)\u001b[0m\u001b[1;33m\u001b[0m\u001b[1;33m\u001b[0m\u001b[0m\n\u001b[0;32m      3\u001b[0m \u001b[1;33m\u001b[0m\u001b[0m\n\u001b[1;32m----> 4\u001b[1;33m \u001b[0mfunction_name_print\u001b[0m\u001b[1;33m(\u001b[0m\u001b[1;34m\"Harry\"\u001b[0m\u001b[1;33m,\u001b[0m\u001b[1;34m\"Sam\"\u001b[0m\u001b[1;33m,\u001b[0m\u001b[1;34m\"John\"\u001b[0m\u001b[1;33m,\u001b[0m\u001b[1;34m\"joe\"\u001b[0m\u001b[1;33m,\u001b[0m\u001b[1;34m\"mia\"\u001b[0m\u001b[1;33m)\u001b[0m\u001b[1;33m\u001b[0m\u001b[1;33m\u001b[0m\u001b[0m\n\u001b[0m",
      "\u001b[1;31mTypeError\u001b[0m: function_name_print() takes 4 positional arguments but 5 were given"
     ]
    }
   ],
   "source": [
    "def function_name_print(a,b,c,d):\n",
    "    print(a,b,c,d)\n",
    "\n",
    "function_name_print(\"Harry\",\"Sam\",\"John\",\"joe\",\"mia\")"
   ]
  },
  {
   "cell_type": "code",
   "execution_count": 5,
   "metadata": {},
   "outputs": [
    {
     "name": "stdout",
     "output_type": "stream",
     "text": [
      "['Harry', 'Sam', 'John', 'joe', 'mia']\n"
     ]
    }
   ],
   "source": [
    "def function_name_print(*args):\n",
    "    for items in args:\n",
    "        print(items)\n",
    "\n",
    "har=[\"Harry\",\"Sam\",\"John\",\"joe\",\"mia\"]\n",
    "function_name_print(har)"
   ]
  },
  {
   "cell_type": "code",
   "execution_count": 6,
   "metadata": {},
   "outputs": [
    {
     "name": "stdout",
     "output_type": "stream",
     "text": [
      "Harry\n",
      "Sam\n",
      "John\n",
      "joe\n",
      "mia\n"
     ]
    }
   ],
   "source": [
    "def function_name_print(*args):\n",
    "    for items in args:\n",
    "        print(items)\n",
    "\n",
    "har=[\"Harry\",\"Sam\",\"John\",\"joe\",\"mia\"]\n",
    "function_name_print(*har)"
   ]
  },
  {
   "cell_type": "code",
   "execution_count": 8,
   "metadata": {},
   "outputs": [
    {
     "name": "stdout",
     "output_type": "stream",
     "text": [
      "I am a normal argument and the students are : \n",
      "Harry\n",
      "Sam\n",
      "John\n",
      "joe\n",
      "mia\n"
     ]
    }
   ],
   "source": [
    "def funargs(normal,*args):\n",
    "    print(normal)\n",
    "    for items in args:\n",
    "        print(items)\n",
    "\n",
    "har=[\"Harry\",\"Sam\",\"John\",\"joe\",\"mia\"]\n",
    "normal=\"I am a normal argument and the students are : \"\n",
    "function_name_print(normal,*har)"
   ]
  },
  {
   "cell_type": "code",
   "execution_count": 9,
   "metadata": {},
   "outputs": [
    {
     "name": "stdout",
     "output_type": "stream",
     "text": [
      "Harry\n",
      "Sam\n",
      "John\n",
      "joe\n",
      "mia\n",
      "I am a normal argument and the students are : \n"
     ]
    }
   ],
   "source": [
    "def funargs(*args,normal):\n",
    "    print(normal)\n",
    "    for items in args:\n",
    "        print(items)\n",
    "\n",
    "har=[\"Harry\",\"Sam\",\"John\",\"joe\",\"mia\"]\n",
    "normal=\"I am a normal argument and the students are : \"\n",
    "function_name_print(*har,normal)"
   ]
  },
  {
   "cell_type": "code",
   "execution_count": 10,
   "metadata": {},
   "outputs": [
    {
     "name": "stdout",
     "output_type": "stream",
     "text": [
      "Harry\n",
      "Sam\n",
      "John\n",
      "joe\n",
      "mia\n",
      "I am a normal argument and the students are : \n"
     ]
    }
   ],
   "source": [
    "def funargs(*argsrohan,normal):\n",
    "    print(normal)\n",
    "    for items in argsrohan:\n",
    "        print(items)\n",
    "\n",
    "har=[\"Harry\",\"Sam\",\"John\",\"joe\",\"mia\"]\n",
    "normal=\"I am a normal argument and the students are : \"\n",
    "function_name_print(*har,normal)"
   ]
  },
  {
   "cell_type": "code",
   "execution_count": 11,
   "metadata": {},
   "outputs": [
    {
     "name": "stdout",
     "output_type": "stream",
     "text": [
      "I am a normal argument and the students are : \n",
      "Harry\n",
      "Sam\n",
      "John\n",
      "joe\n",
      "mia\n"
     ]
    }
   ],
   "source": [
    "def funargs(normal,*args,**kwargs):\n",
    "    print(normal)\n",
    "    for items in args:\n",
    "        print(items)\n",
    "\n",
    "har=[\"Harry\",\"Sam\",\"John\",\"joe\",\"mia\"]\n",
    "normal=\"I am a normal argument and the students are : \"\n",
    "function_name_print(normal,*har)"
   ]
  },
  {
   "cell_type": "code",
   "execution_count": 18,
   "metadata": {},
   "outputs": [
    {
     "name": "stdout",
     "output_type": "stream",
     "text": [
      "I am a normal argument and the students are : \n",
      "Harry\n",
      "Sam\n",
      "John\n",
      "joe\n",
      "mia\n",
      "\n",
      "Now I would like to introduce some of our heroes : \n",
      "f{key}is a {value}\n",
      "f{key}is a {value}\n",
      "f{key}is a {value}\n"
     ]
    }
   ],
   "source": [
    "def funargs(normal,*args,**kwargs):\n",
    "    print(normal)\n",
    "    for items in args:\n",
    "        print(items)\n",
    "    \n",
    "    print(\"\\nNow I would like to introduce some of our heroes : \")    \n",
    "    for key,value in kwargs.items():\n",
    "        print(\"f{key}is a {value}\")\n",
    "        \n",
    "har=[\"Harry\",\"Sam\",\"John\",\"joe\",\"mia\"]\n",
    "normal=\"I am a normal argument and the students are : \"\n",
    "kw = {\"rohan\":\"Monitor\",\"Addi\":\"Instructor\",\"Sam\":\"Incharge\"}\n",
    "funargs(normal,*har,**kw)\n"
   ]
  },
  {
   "cell_type": "code",
   "execution_count": 22,
   "metadata": {},
   "outputs": [
    {
     "name": "stdout",
     "output_type": "stream",
     "text": [
      "I am a normal argument and the students are : \n",
      "Harry\n",
      "Sam\n",
      "John\n",
      "joe\n",
      "mia\n",
      "\n",
      "Now I would like to introduce some of our heroes : \n",
      "f{key}is a {value}\n",
      "f{key}is a {value}\n",
      "f{key}is a {value}\n"
     ]
    }
   ],
   "source": [
    "def funargs(normal,*args,**kwargs):\n",
    "    print(normal)\n",
    "    for items in args:\n",
    "        print(items)\n",
    "    \n",
    "    print(\"\\nNow I would like to introduce some of our heroes : \")    \n",
    "    for key,value in kwargs.items():\n",
    "        print(\"f{key}is a {value}\")\n",
    "        \n",
    "har=[\"Harry\",\"Sam\",\"John\",\"joe\",\"mia\"]\n",
    "normal=\"I am a normal argument and the students are : \"\n",
    "kw = {\"rohan\":\"Monitor\",\"Addi\":\"Instructor\",\"Sam\":\"Incharge\"}\n",
    "funargs(normal,*har,**kw)\n"
   ]
  },
  {
   "cell_type": "code",
   "execution_count": 23,
   "metadata": {},
   "outputs": [
    {
     "name": "stdout",
     "output_type": "stream",
     "text": [
      "I am a normal argument and the students are : \n",
      "Harry\n",
      "Sam\n",
      "John\n",
      "joe\n",
      "mia\n",
      "\n",
      "Now I would like to introduce some of our heroes : \n",
      "rohanis a Monitor\n",
      "Addiis a Instructor\n",
      "Samis a Incharge\n"
     ]
    }
   ],
   "source": [
    "def funargs(normal,*args,**kwargs):\n",
    "    print(normal)\n",
    "    for items in args:\n",
    "        print(items)\n",
    "    \n",
    "    print(\"\\nNow I would like to introduce some of our heroes : \")    \n",
    "    for key,value in kwargs.items():\n",
    "        print(f\"{key}is a {value}\")\n",
    "        \n",
    "har=[\"Harry\",\"Sam\",\"John\",\"joe\",\"mia\"]\n",
    "normal=\"I am a normal argument and the students are : \"\n",
    "kw = {\"rohan\":\"Monitor\",\"Addi\":\"Instructor\",\"Sam\":\"Incharge\"}\n",
    "funargs(normal,*har,**kw)\n"
   ]
  },
  {
   "cell_type": "code",
   "execution_count": 25,
   "metadata": {},
   "outputs": [
    {
     "name": "stdout",
     "output_type": "stream",
     "text": [
      "I am a normal argument and the students are : \n",
      "Harry\n",
      "Sam\n",
      "John\n",
      "joe\n",
      "mia\n",
      "\n",
      "Now I would like to introduce some of our heroes : \n",
      "rohan is a Monitor\n",
      "Addi is a Instructor\n",
      "Sam is a Incharge\n",
      "Shivam is a Cook\n"
     ]
    }
   ],
   "source": [
    "def funargs(normal,*args,**kwargs):\n",
    "    print(normal)\n",
    "    for items in args:\n",
    "        print(items)\n",
    "    \n",
    "    print(\"\\nNow I would like to introduce some of our heroes : \")    \n",
    "    for key,value in kwargs.items():\n",
    "        print(f\"{key} is a {value}\")\n",
    "        \n",
    "har=[\"Harry\",\"Sam\",\"John\",\"joe\",\"mia\"]\n",
    "normal=\"I am a normal argument and the students are : \"\n",
    "kw = {\"rohan\":\"Monitor\",\"Addi\":\"Instructor\",\"Sam\":\"Incharge\",\"Shivam\":\"Cook\"}\n",
    "funargs(normal,*har,**kw)\n"
   ]
  }
 ],
 "metadata": {
  "kernelspec": {
   "display_name": "Python 3",
   "language": "python",
   "name": "python3"
  },
  "language_info": {
   "codemirror_mode": {
    "name": "ipython",
    "version": 3
   },
   "file_extension": ".py",
   "mimetype": "text/x-python",
   "name": "python",
   "nbconvert_exporter": "python",
   "pygments_lexer": "ipython3",
   "version": "3.7.3"
  }
 },
 "nbformat": 4,
 "nbformat_minor": 2
}
